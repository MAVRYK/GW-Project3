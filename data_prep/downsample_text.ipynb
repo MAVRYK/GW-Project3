{
 "cells": [
  {
   "cell_type": "code",
   "execution_count": 1,
   "metadata": {},
   "outputs": [],
   "source": [
    "#dependencies\n",
    "from  sklearn.utils import resample"
   ]
  },
  {
   "cell_type": "code",
   "execution_count": 2,
   "metadata": {},
   "outputs": [],
   "source": [
    "#make lists of sites\n",
    "l_names = ['NewRepublic', 'MotherJones', 'Slate', 'Intercept', \n",
    "              'DailyBeast', 'Atlantic', 'Politico', 'Guardian', \n",
    "              'NewYorkTimes', 'WashingtonPost']\n",
    "\n",
    "r_names = ['DailyWire', 'FoxNews', 'NewYorkPost', 'Reason',\n",
    "           'AmericanConservative', 'Economist', 'FiscalTimes',\n",
    "           'Hill', 'WashingtonTimes', 'Breitbart']"
   ]
  },
  {
   "cell_type": "code",
   "execution_count": 3,
   "metadata": {},
   "outputs": [],
   "source": [
    "#make a text file that will contain all the reduced texts (by side) combined\n",
    "with open('../output/cloud_all_right_sml.txt', 'w', encoding='utf8') as outfile:\n",
    "    #loop through the sites\n",
    "    for name in r_names:\n",
    "        #get each site's text file\n",
    "        file_name = f'../output/R-{name}3_text.txt'\n",
    "        with open(file_name, 'r', encoding='utf8') as infile:\n",
    "            #make a list of (roughly) sentences \n",
    "            text_list = infile.read().split('.')\n",
    "            #use sklearn's resample to randomly select the same # of sentences\n",
    "            text_reduced = resample(text_list, replace = False, n_samples = 26101, random_state = 33)\n",
    "            #write the reduced text to the text file w/ a space b/t them\n",
    "            for sentence in text_reduced:\n",
    "                outfile.write(f'{sentence} ')"
   ]
  },
  {
   "cell_type": "code",
   "execution_count": 4,
   "metadata": {},
   "outputs": [],
   "source": [
    "#combine all and put in a new txt file\n",
    "all_names = ['../output/cloud_all_right_sml.txt', '../output/cloud_all_left_sml.txt']\n",
    "\n",
    "#make a text file that will contain both sides combined\n",
    "with open('../output/cloud_all_combined_sml.txt', 'w', encoding='utf8') as outfile:\n",
    "    for name in all_names:\n",
    "        with open(name, encoding='utf8') as infile:\n",
    "            for line in infile:\n",
    "                outfile.write(line)"
   ]
  },
  {
   "cell_type": "code",
   "execution_count": null,
   "metadata": {},
   "outputs": [],
   "source": []
  }
 ],
 "metadata": {
  "kernelspec": {
   "display_name": "Python 3",
   "language": "python",
   "name": "python3"
  },
  "language_info": {
   "codemirror_mode": {
    "name": "ipython",
    "version": 3
   },
   "file_extension": ".py",
   "mimetype": "text/x-python",
   "name": "python",
   "nbconvert_exporter": "python",
   "pygments_lexer": "ipython3",
   "version": "3.6.6"
  }
 },
 "nbformat": 4,
 "nbformat_minor": 2
}
