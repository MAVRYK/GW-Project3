{
 "cells": [
  {
   "cell_type": "code",
   "execution_count": null,
   "metadata": {},
   "outputs": [],
   "source": [
    "#dependencies\n",
    "import pymongo\n",
    "import time"
   ]
  },
  {
   "cell_type": "code",
   "execution_count": null,
   "metadata": {},
   "outputs": [],
   "source": [
    "#set up mongodb connection\n",
    "conn = 'mongodb://localhost:27017'\n",
    "client = pymongo.MongoClient(conn)"
   ]
  },
  {
   "cell_type": "code",
   "execution_count": null,
   "metadata": {},
   "outputs": [],
   "source": [
    "#list of news sites\n",
    "name_list = ['DailyWire', 'FoxNews', 'NewYorkPost', 'Reason', \n",
    "             'American Conservative', 'Economist', 'FiscalTimes', \n",
    "             'Hill', 'WashingtonTimes', 'Breitbart']"
   ]
  },
  {
   "cell_type": "code",
   "execution_count": null,
   "metadata": {},
   "outputs": [],
   "source": [
    "# Record starting time\n",
    "start = time.time()"
   ]
  },
  {
   "cell_type": "code",
   "execution_count": null,
   "metadata": {
    "scrolled": false
   },
   "outputs": [],
   "source": [
    "#loop through the sites\n",
    "for name in name_list:\n",
    "   \n",
    "    #set up the names\n",
    "    news_site = f'R-{name}3'\n",
    "    text_path = f'../output/{news_site}_text.txt'  \n",
    "    \n",
    "    #blank list\n",
    "    text_list = []\n",
    "    \n",
    "    #choose the db\n",
    "    db = client[news_site]\n",
    "\n",
    "    #chose the HTML_pages\n",
    "    documents = db.HTML_pages.find()\n",
    "    \n",
    "    print()\n",
    "    print(db)\n",
    "    print('-----------------------')\n",
    "    \n",
    "    #loop through the documents\n",
    "    for i in range(0, documents.count()):\n",
    "    #for i in range(0, 1):\n",
    "        \n",
    "        # Print out progress tracker\n",
    "        print(str(i) + \"/\" + str(documents.count()))\n",
    "        \n",
    "        text = (documents[i]['meta']['text']).replace(\"\\n\", \" \")\n",
    "                       \n",
    "        #append to text_list\n",
    "        text_list.append(text)\n",
    "        \n",
    "        text_list\n",
    "        \n",
    "    #convert the list to a string\n",
    "    text_string = ' '.join(text_list)\n",
    "    \n",
    "    #export to a text file\n",
    "    with open(text_path, \"w\", encoding='utf8') as text_file:\n",
    "        text_file.write(text_string)\n",
    "    \n",
    "    # Record end time\n",
    "    end = time.time()\n",
    "\n",
    "    # Print out how many minutes elapsed\n",
    "    print((end - start)/60)    "
   ]
  },
  {
   "cell_type": "code",
   "execution_count": null,
   "metadata": {},
   "outputs": [],
   "source": [
    "'''Need to redo'''\n",
    "\n",
    "start = time.time()\n",
    "\n",
    "left_filenames = ['Resources/bbc_db.txt', 'Resources/db_db.txt', 'Resources/guardian_db.txt', \n",
    "                  'Resources/intercept_db.txt', 'Resources/mj_db.txt', 'Resources/politico_db.txt', \n",
    "                  'Resources/slate_db.txt', 'Resources/washpost_db.txt', 'Resources/atlantic_db.txt', \n",
    "                  'Resources/nr_db.txt']\n",
    "\n",
    "right_filenames = ['Resources/amercons_db.txt', 'Resources/breitbart_db.txt', 'Resources/dailywire_db.txt', \n",
    "                   'Resources/foxnews_db.txt', 'Resources/hill_db.txt', 'Resources/nypost_db.txt', 'Resources/oann_db.txt', \n",
    "                   'Resources/tft_db.txt', 'Resources/washtimes_db.txt', 'Resources/reason_db.txt']\n",
    "\n",
    "with open('Resources/_left.txt', 'w', encoding='utf8') as outfile:\n",
    "    for fname in left_filenames:\n",
    "        with open(fname, encoding='utf8') as infile:\n",
    "            for line in infile:\n",
    "                outfile.write(line)\n",
    "                \n",
    "with open('Resources/_right.txt', 'w', encoding='utf8') as outfile:\n",
    "    for fname in right_filenames:\n",
    "        with open(fname, encoding='utf8') as infile:\n",
    "            for line in infile:\n",
    "                outfile.write(line)\n",
    "                \n",
    "# Record time\n",
    "end = time.time()\n",
    "\n",
    "# Print out how many minutes elapsed\n",
    "print((end - start)/60)"
   ]
  },
  {
   "cell_type": "code",
   "execution_count": null,
   "metadata": {},
   "outputs": [],
   "source": [
    "'''Need to redo'''\n",
    "\n",
    "start = time.time()\n",
    "\n",
    "all_filenames = ['Resources/left_db.txt', 'Resources/right_db.txt']\n",
    "\n",
    "with open('Resources/_combined.txt', 'w', encoding='utf8') as outfile:\n",
    "    for fname in right_filenames:\n",
    "        with open(fname, encoding='utf8') as infile:\n",
    "            for line in infile:\n",
    "                outfile.write(line)\n",
    "                \n",
    "# Record time\n",
    "end = time.time()\n",
    "\n",
    "# Print out how many minutes elapsed\n",
    "print((end - start)/60)"
   ]
  }
 ],
 "metadata": {
  "kernelspec": {
   "display_name": "Python 3",
   "language": "python",
   "name": "python3"
  },
  "language_info": {
   "codemirror_mode": {
    "name": "ipython",
    "version": 3
   },
   "file_extension": ".py",
   "mimetype": "text/x-python",
   "name": "python",
   "nbconvert_exporter": "python",
   "pygments_lexer": "ipython3",
   "version": "3.6.6"
  }
 },
 "nbformat": 4,
 "nbformat_minor": 2
}
