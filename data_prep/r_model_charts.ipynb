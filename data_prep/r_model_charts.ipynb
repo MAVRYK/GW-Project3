{
 "cells": [
  {
   "cell_type": "code",
   "execution_count": 1,
   "metadata": {},
   "outputs": [],
   "source": [
    "#dependencies\n",
    "import plotly.plotly as py\n",
    "import plotly.graph_objs as go\n",
    "\n",
    "from config import (plykey, plyname)"
   ]
  },
  {
   "cell_type": "code",
   "execution_count": 2,
   "metadata": {},
   "outputs": [],
   "source": [
    "scores = [83, 87, 88, 90, 97]\n",
    "phrases = ['Islamic State', '2nd Amendment', 'Open Borders', 'Illegal Immigrant', 'DACA Amnesty']"
   ]
  },
  {
   "cell_type": "code",
   "execution_count": 3,
   "metadata": {},
   "outputs": [
    {
     "data": {
      "text/plain": [
       "['Islamic State | 83%',\n",
       " '2nd Amendment | 87%',\n",
       " 'Open Borders | 88%',\n",
       " 'Illegal Immigrant | 90%',\n",
       " 'DACA Amnesty | 97%']"
      ]
     },
     "execution_count": 3,
     "metadata": {},
     "output_type": "execute_result"
    }
   ],
   "source": [
    "bar_text = [f'{phrase} | {str(score)}%' for phrase, score in zip(phrases, scores)]\n",
    "bar_text"
   ]
  },
  {
   "cell_type": "code",
   "execution_count": 18,
   "metadata": {},
   "outputs": [
    {
     "data": {
      "text/html": [
       "<iframe id=\"igraph\" scrolling=\"no\" style=\"border:none;\" seamless=\"seamless\" src=\"https://plot.ly/~VanessaVanG/21.embed\" height=\"525px\" width=\"600px\"></iframe>"
      ],
      "text/plain": [
       "<plotly.tools.PlotlyDisplay object>"
      ]
     },
     "execution_count": 18,
     "metadata": {},
     "output_type": "execute_result"
    }
   ],
   "source": [
    "data = [go.Bar(x = scores, \n",
    "               y = phrases, \n",
    "               orientation = 'h',\n",
    "               hoverinfo = 'none',\n",
    "               text = bar_text,\n",
    "               textposition = 'inside',\n",
    "               insidetextfont = dict(\n",
    "                   size = 30, \n",
    "                   color = 'white'\n",
    "               ),\n",
    "               opacity =.7,               \n",
    "               marker = dict(\n",
    "                   color ='#EE0000',\n",
    "                   line = dict(\n",
    "                       color ='#000000',\n",
    "                       width = 1),\n",
    "               ),\n",
    "        )]\n",
    "layout = dict(\n",
    "    width = 600,\n",
    "    font = dict(\n",
    "        family = 'PT Sans Narrow',\n",
    "        size = 18), \n",
    "    yaxis = dict(\n",
    "        showgrid = False,\n",
    "        showticklabels = False\n",
    "    ),\n",
    "    xaxis=dict(title='% Likelihood Site Bias is Right')\n",
    ")\n",
    "\n",
    "fig = go.Figure(data=data, layout=layout)\n",
    "py.iplot(fig, filename='right_headline')"
   ]
  },
  {
   "cell_type": "code",
   "execution_count": null,
   "metadata": {},
   "outputs": [],
   "source": []
  }
 ],
 "metadata": {
  "kernelspec": {
   "display_name": "Python 3",
   "language": "python",
   "name": "python3"
  },
  "language_info": {
   "codemirror_mode": {
    "name": "ipython",
    "version": 3
   },
   "file_extension": ".py",
   "mimetype": "text/x-python",
   "name": "python",
   "nbconvert_exporter": "python",
   "pygments_lexer": "ipython3",
   "version": "3.6.6"
  }
 },
 "nbformat": 4,
 "nbformat_minor": 2
}
