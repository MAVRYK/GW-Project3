{
 "cells": [
  {
   "cell_type": "markdown",
   "metadata": {},
   "source": [
    "<h1>Import titles using Pickle</h1>"
   ]
  },
  {
   "cell_type": "code",
   "execution_count": 1,
   "metadata": {
    "collapsed": true
   },
   "outputs": [],
   "source": [
    "# Dependencies\n",
    "import pickle\n",
    "\n",
    "def ReadFile(file_name, title_list):\n",
    "    \n",
    "    # Open the files ('rb' is for read binary)\n",
    "    file_object = open(file_name,'rb')\n",
    "    \n",
    "    # Load files into list using pickle\n",
    "    in_list = pickle.load(file_object)\n",
    "    \n",
    "    # Close files\n",
    "    file_object.close()\n",
    "    \n",
    "    # Add list just read in to existing list\n",
    "    title_list.extend(in_list)\n",
    "    \n",
    "    return(title_list)"
   ]
  },
  {
   "cell_type": "code",
   "execution_count": 2,
   "metadata": {},
   "outputs": [
    {
     "name": "stdout",
     "output_type": "stream",
     "text": [
      "96205\n",
      "105703\n"
     ]
    }
   ],
   "source": [
    "# Crate empty list for left sites\n",
    "left_title_list = []\n",
    "\n",
    "# Read left sites\n",
    "left_title_list = ReadFile(\"data/atlantic_titles\", left_title_list)\n",
    "left_title_list = ReadFile(\"data/mjones_titles\", left_title_list)\n",
    "left_title_list = ReadFile(\"data/newrepublic_titles\", left_title_list)\n",
    "left_title_list = ReadFile(\"data/nytimes_titles\", left_title_list)\n",
    "left_title_list = ReadFile(\"data/politico_titles\", left_title_list)\n",
    "left_title_list = ReadFile(\"data/slate_titles\", left_title_list)\n",
    "left_title_list = ReadFile(\"data/thedailybeast_titles\", left_title_list)\n",
    "left_title_list = ReadFile(\"data/theguardian_titles\", left_title_list)\n",
    "left_title_list = ReadFile(\"data/theintercept_titles\", left_title_list)\n",
    "left_title_list = ReadFile(\"data/washpost_titles\", left_title_list)\n",
    "\n",
    "#***MAKE SURE THIS NUMBER MATCHES THE NUMBER OF DOCUMENTS IN MONGODB***\n",
    "print(len(left_title_list))\n",
    "\n",
    "# Crate empty list for right sites\n",
    "right_title_list = []\n",
    "\n",
    "# Read right sites\n",
    "right_title_list = ReadFile(\"data/americanconservative_titles\", right_title_list)\n",
    "right_title_list = ReadFile(\"data/breitbart_titles\", right_title_list)\n",
    "right_title_list = ReadFile(\"data/dailywire_titles\", right_title_list)\n",
    "right_title_list = ReadFile(\"data/economist_titles\", right_title_list)\n",
    "right_title_list = ReadFile(\"data/fiscaltimes_titles\", right_title_list)\n",
    "right_title_list = ReadFile(\"data/foxnews_titles\", right_title_list)\n",
    "right_title_list = ReadFile(\"data/nypost_titles\", right_title_list)\n",
    "right_title_list = ReadFile(\"data/reason_titles\", right_title_list)\n",
    "right_title_list = ReadFile(\"data/thehill_titles\", right_title_list)\n",
    "right_title_list = ReadFile(\"data/washtimes_titles\", right_title_list)\n",
    "\n",
    "#***MAKE SURE THIS NUMBER MATCHES THE NUMBER OF DOCUMENTS IN MONGODB***\n",
    "print(len(right_title_list))"
   ]
  },
  {
   "cell_type": "markdown",
   "metadata": {},
   "source": [
    "<h1>Add Site Bias to Dataframes</h1>"
   ]
  },
  {
   "cell_type": "code",
   "execution_count": 3,
   "metadata": {},
   "outputs": [
    {
     "name": "stdout",
     "output_type": "stream",
     "text": [
      "   bias                                              title\n",
      "0     1  Conservative High Schoolers Want to ‘Own the L...\n",
      "1     1  The Instagram Forums Where Teens Go to Debate ...\n",
      "2     1  The Doomed Republican Attempt to Impeach Rod R...\n",
      "3     1                          Facebook Is Probably Fine\n",
      "4     1                  Secretary of a State of Confusion\n",
      "(96205, 2)\n",
      "\n",
      "   bias                                        title\n",
      "0     0               Fruits Of The Quiet Revolution\n",
      "1     0               Trust And Mistrust In Churches\n",
      "2     0   A Democratic President From Trump Country?\n",
      "3     0  ‘Arab NATO’: A Terrible Idea That Won’t Die\n",
      "4     0                       TAC Fall Intern Wanted\n",
      "(105703, 2)\n"
     ]
    }
   ],
   "source": [
    "# Dependencies\n",
    "import pandas as pd\n",
    "import numpy as np\n",
    "\n",
    "# Bias of 1 -> Left; Bias of 0 -> Right\n",
    "df1 = pd.DataFrame({'title': np.array(left_title_list), 'bias': 1})\n",
    "df2 = pd.DataFrame({'title': np.array(right_title_list), 'bias': 0})\n",
    "\n",
    "print(df1.head())\n",
    "print(df1.shape)\n",
    "print()\n",
    "print(df2.head())\n",
    "print(df2.shape)"
   ]
  },
  {
   "cell_type": "markdown",
   "metadata": {},
   "source": [
    "<h1>Downsample Larger Dataframe</h1>"
   ]
  },
  {
   "cell_type": "code",
   "execution_count": 4,
   "metadata": {},
   "outputs": [
    {
     "name": "stdout",
     "output_type": "stream",
     "text": [
      "(96205, 2)\n"
     ]
    }
   ],
   "source": [
    "from sklearn.utils import resample\n",
    "\n",
    "df2_downsampled = resample(df2, replace = False, n_samples = len(df1), random_state = 41)\n",
    "print(df2_downsampled.shape)"
   ]
  },
  {
   "cell_type": "markdown",
   "metadata": {},
   "source": [
    "<h1>Combine Left & Right Dataframes</h1>"
   ]
  },
  {
   "cell_type": "code",
   "execution_count": 5,
   "metadata": {},
   "outputs": [
    {
     "name": "stdout",
     "output_type": "stream",
     "text": [
      "\n",
      "(192410, 2)\n",
      "(192328, 2)\n"
     ]
    }
   ],
   "source": [
    "df_combined = pd.concat([df1, df2_downsampled])\n",
    "print()\n",
    "print(df_combined.shape)\n",
    "\n",
    "df_clean = df_combined.dropna()\n",
    "print(df_clean.shape)"
   ]
  },
  {
   "cell_type": "markdown",
   "metadata": {},
   "source": [
    "<h1>Logistic Regression on Words in Title</h1>"
   ]
  },
  {
   "cell_type": "code",
   "execution_count": 6,
   "metadata": {},
   "outputs": [
    {
     "name": "stdout",
     "output_type": "stream",
     "text": [
      "0.77394867102\n"
     ]
    }
   ],
   "source": [
    "# Dependencies\n",
    "from sklearn.feature_extraction.text import CountVectorizer\n",
    "from sklearn.linear_model import LogisticRegression\n",
    "from sklearn.model_selection import train_test_split\n",
    "\n",
    "# Create a matrix of word count using CountVectorizer\n",
    "# Count single words and word pairs (ngram_range = 1-2)\n",
    "vectorizer = CountVectorizer(stop_words='english', ngram_range=(1,3))\n",
    "\n",
    "# Fit and transform data\n",
    "X = vectorizer.fit_transform(df_clean['title'])\n",
    "\n",
    "# Create training and test split\n",
    "X_train, X_test, y_train, y_test  = train_test_split(X, df_clean['bias'], random_state=41)\n",
    "\n",
    "# Create the model and fit the training data\n",
    "logreg = LogisticRegression()\n",
    "logreg.fit(X_train,y_train)\n",
    "\n",
    "# Show model's score\n",
    "print(logreg.score(X_test,y_test))\n",
    "\n",
    "coef_zip = zip(logreg.coef_.tolist()[0],list(vectorizer.get_feature_names()))\n",
    "coef_list = list(coef_zip)\n",
    "coef_list.sort()"
   ]
  },
  {
   "cell_type": "code",
   "execution_count": null,
   "metadata": {},
   "outputs": [],
   "source": [
    "# Show top 20 words/phrases for right and left\n",
    "for i in range(0,200):\n",
    "    print(coef_list[i], coef_list[len(coef_list) - i - 1])"
   ]
  },
  {
   "cell_type": "markdown",
   "metadata": {},
   "source": [
    "<h1>Output Model Results to JSON File</h1>"
   ]
  },
  {
   "cell_type": "code",
   "execution_count": 30,
   "metadata": {},
   "outputs": [],
   "source": [
    "# Create empty list of dictionaries for titles\n",
    "d = {}\n",
    "\n",
    "# Loop through title list\n",
    "for i in range(0,len(coef_list)-1):\n",
    "    for item in coef_list[i]:\n",
    "        if type(item) is str:\n",
    "            d[item] = logreg.predict_proba(vectorizer.transform([item]))[0][0]\n",
    "            \n",
    "sorted_dict = sorted(d.items(), key=lambda x:x[1])"
   ]
  },
  {
   "cell_type": "code",
   "execution_count": 70,
   "metadata": {},
   "outputs": [
    {
     "data": {
      "text/plain": [
       "array([[ 0.0956424,  0.9043576]])"
      ]
     },
     "execution_count": 70,
     "metadata": {},
     "output_type": "execute_result"
    }
   ],
   "source": [
    "logreg.predict_proba(vectorizer.transform(['undocumented immigrant']))"
   ]
  },
  {
   "cell_type": "code",
   "execution_count": 71,
   "metadata": {},
   "outputs": [
    {
     "name": "stdout",
     "output_type": "stream",
     "text": [
      "[('redskins washington post', 6.0666422376454143e-05), ('annotated washington post', 0.00021066202459985028), ('say washington post', 0.00026483490116069319), ('happened washington post', 0.00032990247435149556), ('capitals washington post', 0.00035599844957823201), ('forecast washington post', 0.00035963935818028592), ('cosby washington post', 0.00036614445410820817), ('helped washington post', 0.00038637316756462425), ('favorite washington post', 0.00039762843136703641), ('explained washington post', 0.00040045942630739795), ('brooklyn washington post', 0.00044198090069147433), ('came washington post', 0.00046444443182891426), ('inside washington post', 0.00048555069095934655), ('learn washington post', 0.00048603064108609928), ('pruitt washington post', 0.00048755690874946467), ('stream washington post', 0.00049457774030614576), ('movies washington post', 0.00050186084698866651), ('separations washington post', 0.00051368390844452883), ('episode washington post', 0.00051524021376248008), ('broadway washington post', 0.00052228042491075932), ('color washington post', 0.00052735009811710754), ('comeback washington post', 0.00052808451979469151), ('ocean washington post', 0.00052987016276651033), ('retaliation washington post', 0.00053683285685979243), ('mean washington post', 0.00054301806225709459), ('skeptical washington post', 0.00054307423854171866), ('loom washington post', 0.00055016734264279332), ('turmoil washington post', 0.00055372186491220443), ('harassment washington post', 0.00055565641126520404), ('washington washington post', 0.0005577385830769499), ('complicated washington post', 0.00055797366614862565), ('unarmed washington post', 0.00056259502466593503), ('nba washington post', 0.00056271306123056863), ('depression washington post', 0.00056679268885584388), ('zte washington post', 0.00056872885357817093), ('flaw washington post', 0.00057066765292579369), ('simple washington post', 0.0005708236529771149), ('redskins gameday redskins', 0.00057506776140792137), ('spoke washington post', 0.00057512198188447439), ('guide washington post', 0.00057579861615897343), ('today washington post', 0.0005782943006549246), ('happens washington post', 0.00057995649477804445), ('papadopoulos washington post', 0.00058015208135941965), ('isis washington post', 0.00058302884109351361), ('snow washington post', 0.00058351764512121207), ('katrina washington post', 0.00058429710302876359), ('answered washington post', 0.00058634030260740211), ('surprising washington post', 0.00059634012214793142), ('ferguson washington post', 0.00059646422253167852), ('trump washington post', 0.00059685111328389162), ('according washington post', 0.00059706504786150028), ('routine washington post', 0.00059959591895952791), ('jaguars washington post', 0.00060590563936080422), ('groping washington post', 0.00060612213196253872), ('shithole washington post', 0.00061210174745951473), ('briefly washington post', 0.00061672480655261541), ('changed washington post', 0.0006210996243531941), ('haunt washington post', 0.00062206452564739223), ('siege washington post', 0.0006243966462325945), ('mystery washington post', 0.00062485805016898599), ('lynching washington post', 0.00062543290565453269), ('season washington post', 0.00062801192514960746), ('republican washington post', 0.00062886203965351051), ('trumpism washington post', 0.00063033791298849895), ('washington post isn', 0.00063118746676715798), ('refuge washington post', 0.00063137321237094479), ('quit washington post', 0.00063143719681024724), ('exactly washington post', 0.00063192816488155668), ('words washington post', 0.00063434128802952738), ('harper washington post', 0.00063682376526463802), ('ambitions washington post', 0.00064264499015287413), ('brink washington post', 0.00064424734776569181), ('isn washington post', 0.00064443732280017318), ('superdelegates washington post', 0.00064495643983453199), ('answers washington post', 0.00064831353136673986), ('jay washington post', 0.00064903366615931546), ('loves washington post', 0.00065004943896829204), ('dose washington post', 0.00065077808429603312), ('denials washington post', 0.00065225344773400806), ('weren washington post', 0.00065588338906219512), ('kremlin washington post', 0.00065810455282877545), ('learned washington post', 0.00066482507753407027), ('manila washington post', 0.00066653378782099981), ('broke washington post', 0.00066699841383344172), ('charts washington post', 0.00066818008980074062), ('worked washington post', 0.00067175098852800819), ('circus washington post', 0.00067288658827879821), ('forgotten washington post', 0.00067518052100579151), ('preventable washington post', 0.00067616488636668137), ('complex washington post', 0.00067993307551816873), ('jeopardy washington post', 0.0006806864765879217), ('scrutiny washington post', 0.0006828424461398086), ('villain washington post', 0.00068297424520469274), ('torn washington post', 0.00068414029397889653), ('drinking washington post', 0.0006846781573165428), ('indictment washington post', 0.00068842441898697704), ('started washington post', 0.00068999399403479877), ('just washington post', 0.00069022570556032115), ('reacted washington post', 0.00069631917186108172), ('stories washington post', 0.00069902508905317351), ('happening washington post', 0.00069962162588976806), ('probably washington post', 0.00070028394098387015), ('detention washington post', 0.00070144623731949185), ('skepticism washington post', 0.00070341593650025125), ('aren washington post', 0.00070523476926276363), ('did washington post', 0.00070591811926246084), ('wonder washington post', 0.00070758574527751694), ('washington post saw', 0.00070982908034455949), ('saw washington post', 0.00071104698110668885), ('rallying washington post', 0.00071456747152998101), ('easy washington post', 0.00071554708756382812), ('evangelicals washington post', 0.00071933563759007946), ('disarray washington post', 0.00072296994903342515), ('fate washington post', 0.0007231580779388791), ('parkland washington post', 0.00072351359581968033), ('conflict washington post', 0.00072546740591306058), ('stalled washington post', 0.00072627824507021099), ('package washington post', 0.00072666470601168154), ('rebuke washington post', 0.00072694235902714954), ('unprecedented washington post', 0.00072694940429751664), ('limits washington post', 0.0007270057741333158), ('exploring washington post', 0.00072763047932933311), ('overhaul washington post', 0.00072785597872726537), ('drama washington post', 0.00072843352072637924), ('cousins washington post', 0.0007301715733420977), ('playoffs washington post', 0.00073050562639187522), ('wolves washington post', 0.00073268173817597759), ('2014 washington post', 0.00073294660870837358), ('chaos washington post', 0.00073475958097080074), ('wasn washington post', 0.00073797904854389085), ('spring washington post', 0.00073807231955158592), ('stake washington post', 0.00073888425840107352), ('pioneer washington post', 0.00073903516904327837), ('relief washington post', 0.00074283253790397019), ('limbo washington post', 0.00074299749844131124), ('races washington post', 0.00074323174109436341), ('inevitable washington post', 0.0007437623112170888), ('swearing washington post', 0.00074450191893749018), ('love washington post', 0.00074455938991124793), ('deepens washington post', 0.00074527187429596076), ('moment washington post', 0.00074545459161579064), ('playbook washington post', 0.00074867489382590691), ('luck washington post', 0.00074980385782807968), ('thrive washington post', 0.00075095322222018535), ('arpaio washington post', 0.00075783596041723023), ('actually washington post', 0.00075932412002022165), ('footing washington post', 0.00075951564710563524), ('organizations washington post', 0.0007597843961909545), ('saved washington post', 0.00076070986550680342), ('dccc washington post', 0.00076334971444858013), ('outcry washington post', 0.00076408550332507374), ('race washington post', 0.00076624054301521749), ('divided washington post', 0.00076824099317707173), ('fitness washington post', 0.00076871189218719049), ('science washington post', 0.00076875888123439928), ('secret washington post', 0.00076941453086232237), ('sight washington post', 0.0007697151513452738), ('backfired washington post', 0.00077028711232951519), ('best washington post', 0.00077071456428290386), ('blowback washington post', 0.00077122594007550394), ('apart washington post', 0.00077216201959084962), ('courts washington post', 0.00077366636621323259), ('premiere washington post', 0.00077381431216394514), ('radio washington post', 0.00077397599594064559), ('game washington post', 0.00077461231243292072), ('clues washington post', 0.00077667733258002247), ('fraternities washington post', 0.00077883134962541956), ('taylor washington post', 0.00078244217195411192), ('thread washington post', 0.00078276792169451603), ('pattern washington post', 0.00078278282385124687), ('charge washington post', 0.00078308532000315179), ('healthy washington post', 0.00078388778742799481), ('monologue washington post', 0.00078410438162257456), ('colder washington post', 0.00078639923377510357), ('beijing washington post', 0.00078693595115664206), ('sterling washington post', 0.00078720028557266453), ('terrifying washington post', 0.0007875445759953914), ('primaries washington post', 0.00078865816688766799), ('normal washington post', 0.00078890068893844312), ('agony washington post', 0.00078917039717674164), ('tv washington post', 0.00078933129790870193), ('analysis washington post', 0.00079110600479836979), ('friday washington post', 0.00079203107267622475), ('scoring washington post', 0.00079231707130777984), ('database washington post', 0.00079298887129874984), ('preview washington post', 0.00079349596382627396), ('misconduct washington post', 0.00079448236192292132), ('begun washington post', 0.00079539460749866731), ('mary washington post', 0.00079622518710864565), ('explain washington post', 0.00079660035204420776), ('playing washington post', 0.00079990538028007485), ('contender washington post', 0.0008005776769959283), ('manafort washington post', 0.00080180311342858968), ('anger washington post', 0.00080260751844163369), ('shows washington post', 0.00080339419401942447), ('rain washington post', 0.00080557404562342505), ('shake washington post', 0.00080670369509283635), ('rollbacks washington post', 0.00080676320511285926), ('vaccine washington post', 0.00080684530440622293), ('rose washington post', 0.0008078795259539584), ('app washington post', 0.00080807320375786418), ('separated washington post', 0.00080823499652094011), ('defendants washington post', 0.00080837838179592669), ('backyard washington post', 0.00080941469020767709), ('inspired washington post', 0.00081084595901359524), ('dunk washington post', 0.00081107256933621308), ('experience washington post', 0.00081190274126508033), ('beyoncé washington post', 0.00081417424891017109), ('extension washington post', 0.00081484185259217412), ('republicans washington post', 0.00081501642240400241), ('reunited washington post', 0.00081519458718271043), ('baltimore washington post', 0.00081544830347524133), ('loved washington post', 0.00081590133090247985), ('pyeongchang washington post', 0.00081632679221010918), ('gazette washington post', 0.00081770284888615929), ('pushed washington post', 0.00081786181502407906), ('line washington post', 0.00081808338930744462), ('past washington post', 0.00081821075257004772), ('turning washington post', 0.00081855337404990181), ('discriminate washington post', 0.00081871980813175149), ('maybe washington post', 0.00081893895760531965), ('couldn washington post', 0.00081911030880532643), ('doesn washington post', 0.00081945386271231602), ('summer washington post', 0.00082033274280901569), ('got washington post', 0.00082111054278766193), ('trading washington post', 0.00082252744518185317), ('genius washington post', 0.00082315901491347709), ('role washington post', 0.00082356751774681491), ('really washington post', 0.00082386351770669108), ('condo washington post', 0.00082496770216944348), ('scene washington post', 0.00082499275281300299), ('virginia washington post', 0.00082526587701414744), ('cassidy washington post', 0.00082554850367955179), ('rnc washington post', 0.00082681163507636324), ('secrets washington post', 0.00082813127640812834), ('chose washington post', 0.00082990170186081347), ('matter washington post', 0.00083032965363627476), ('included washington post', 0.00083057580922796248), ('bears washington post', 0.00083078556010551807), ('means washington post', 0.00083173151753590524), ('casts washington post', 0.00083344717242683775), ('transformed washington post', 0.00083359090517143297), ('fantasy washington post', 0.00083534662706952201), ('poor washington post', 0.00083576618331904218), ('hated washington post', 0.00083601680030176428), ('risky washington post', 0.00083670875802854816), ('porter washington post', 0.00083859460781254835), ('budgets washington post', 0.00083904406484947014), ('kind washington post', 0.00083939662799481507), ('beginning washington post', 0.00083976630278359554), ('nsa washington post', 0.0008399314322902196), ('fruit washington post', 0.00084008259832002441), ('chiefs washington post', 0.00084083645658616923), ('contacts washington post', 0.00084150095421153814), ('chrysler washington post', 0.00084151265700105338), ('uproar washington post', 0.00084169083961638247), ('difference washington post', 0.00084174304351469775), ('jones washington post', 0.00084295351690011344), ('odd washington post', 0.00084422603196132595), ('said washington post', 0.00084455678640760201), ('loving washington post', 0.0008478620879223131), ('spots washington post', 0.00084849240914386392), ('real washington post', 0.00084917896481762067), ('silent washington post', 0.00084918653538934574), ('feud washington post', 0.0008493705561640752), ('vulnerable washington post', 0.00084945786178014515), ('overdoses washington post', 0.00084970749688006997), ('formula washington post', 0.0008497749057939652), ('disagree washington post', 0.00084999563231902275), ('lap washington post', 0.0008501481444025405), ('favorites washington post', 0.00085036413437244995), ('debate washington post', 0.00085103663422247955), ('alzheimer washington post', 0.00085266300023933983), ('ankle washington post', 0.00085315321745937922), ('watching washington post', 0.00085348488900316433), ('crown washington post', 0.00085374133938798114), ('curse washington post', 0.00085381708881893115), ('math washington post', 0.00085446811744915863), ('murky washington post', 0.00085881183734737299), ('fitzgerald washington post', 0.00085964382635439485), ('hurricanes washington post', 0.00086028809251059712), ('primary washington post', 0.00086055819327801597), ('minutes washington post', 0.00086216187849219583), ('markle washington post', 0.00086481110085678825), ('afford washington post', 0.00086530600249457024), ('tense washington post', 0.00086537447888435093), ('servants washington post', 0.00086606581682613371), ('lock washington post', 0.00086650201266225135), ('parasites washington post', 0.00086773098845094321), ('songs washington post', 0.0008689994264496903), ('help washington post', 0.00086903753153999563), ('hardest washington post', 0.00086907536935920682), ('protocol washington post', 0.00086966164387347611), ('dream washington post', 0.00086979784006768757), ('fringe washington post', 0.00087035470108376423), ('fundraiser washington post', 0.00087196608973061362), ('like washington post', 0.00087201566676275988), ('defender washington post', 0.00087206687063068333), ('coal washington post', 0.00087210478805344049), ('bigotry washington post', 0.00087292389765714073), ('harasser washington post', 0.00087383333377344385), ('cruel washington post', 0.00087434556922494355), ('vulgarity washington post', 0.00087603725666218768), ('night washington post', 0.00087702324574967516), ('tale washington post', 0.00087714157454144015), ('scarier washington post', 0.00087771725077789853), ('grievance washington post', 0.00087885537291831906), ('matters washington post', 0.00087908272309067392), ('infamous washington post', 0.00087948362060530361), ('cosmic washington post', 0.000880865919188345), ('ribs washington post', 0.00088245588182589429), ('feuds washington post', 0.00088272783819165479), ('inquiry mother jones', 0.00088396896230136246), ('industry washington post', 0.00088424872150472122), ('looming washington post', 0.00088480804792767653), ('venture washington post', 0.00088577855551796869), ('accent washington post', 0.00088640061563449724), ('quickly washington post', 0.00088721374483546889), ('saturday washington post', 0.00088832789790038724), ('kardashian washington post', 0.00088837023268439896), ('movie washington post', 0.00088911260738699927), ('anymore washington post', 0.00089080712554001629), ('controversial washington post', 0.00089185047256279404), ('hackers washington post', 0.00089207300592919481), ('stars washington post', 0.00089239360485104946), ('scherzer washington post', 0.00089405039360479499), ('richardson washington post', 0.00089420249040150779), ('offense washington post', 0.00089445052399728109), ('slump washington post', 0.0008945791955068394), ('scrambling washington post', 0.00089503019082204371), ('eagles washington post', 0.00089558866233896417), ('hurry washington post', 0.00089560119121356863), ('diagnosis washington post', 0.00089569739888717415), ('purpose washington post', 0.00089570175127262619), ('finds washington post', 0.00089708447242919931), ('won washington post', 0.00089811748306667383), ('ones washington post', 0.0008990076446855344), ('field washington post', 0.00089952633859258224), ('impossible washington post', 0.00090021333929357628), ('intrigue washington post', 0.00090037049131219682), ('ignorance washington post', 0.00090162382612724024), ('defiance washington post', 0.0009019683805163714), ('wizards washington post', 0.00090507670049444489), ('future washington post', 0.00090546790048484649), ('foes washington post', 0.00090574222707562324), ('hopefuls washington post', 0.00090693695508226035), ('manhattan mother jones', 0.00090748636578374953), ('shift washington post', 0.00090753691917000445), ('flood washington post', 0.00090933798956560619), ('scramble washington post', 0.00091020779285866382), ('divide washington post', 0.00091045922221633102), ('monday washington post', 0.00091046483272372303), ('happen washington post', 0.0009114501363330918), ('far washington post', 0.00091317032561455402), ('does washington post', 0.0009133636802328704), ('dreamers washington post', 0.00091378487645588091), ('abyss washington post', 0.0009139522848410353), ('pounce washington post', 0.00091439133803206119), ('isolation washington post', 0.00091493599153891214), ('fears washington post', 0.00091531302635861067), ('harder washington post', 0.00091595568094016144), ('encounters washington post', 0.00091858359188079497), ('paralyzed washington post', 0.0009188114680080961), ('deadpool washington post', 0.0009188147445198247), ('corner washington post', 0.00091889130624467352), ('jet washington post', 0.00091910194924460509), ('rounds washington post', 0.00091935111289220828), ('struggle washington post', 0.00092012851680622898), ('championed washington post', 0.00092060928936765762), ('charlottesville washington post', 0.00092248054194910001), ('insult washington post', 0.00092254690305038078), ('album washington post', 0.00092296062299346282), ('instagram washington post', 0.00092382740272534125), ('fury washington post', 0.00092480443871234552), ('inches washington post', 0.00092622624808391674), ('different washington post', 0.0009262350823386889), ('sleep washington post', 0.00092636392859790639), ('pac washington post', 0.00092732167132136833), ('bs washington post', 0.00092779730815661932), ('knows washington post', 0.00092798754295619901), ('belichick washington post', 0.00092868127136946921), ('struggles washington post', 0.00092883731959991778), ('falters washington post', 0.00092988191905973849), ('retirement washington post', 0.00093017257067096182), ('toll washington post', 0.00093078207278363134), ('differently washington post', 0.00093089746411689767), ('missed washington post', 0.00093134319962451251), ('worry washington post', 0.00093187205757039315), ('nightmares washington post', 0.00093193369468580478), ('decades washington post', 0.00093320038139466099), ('dictatorship washington post', 0.00093325628954032958), ('confrontation washington post', 0.00093372279793879631), ('delight washington post', 0.00093493844634295886), ('agent washington post', 0.0009353397159650445), ('reeling washington post', 0.00093566964706581768), ('heard washington post', 0.00093637354712783338), ('worms washington post', 0.00093731028221155643), ('theory washington post', 0.00093814776559164592), ('headquarters washington post', 0.00093838184309424921), ('payer washington post', 0.00093900878097097351), ('franchise washington post', 0.00093902934981782149), ('ravens washington post', 0.00093903457456345762), ('zinke washington post', 0.00093957709423109215), ('absence washington post', 0.00094024738034281796), ('ncaa washington post', 0.00094033431510021082), ('teenager washington post', 0.00094056329963643215), ('prisons washington post', 0.00094078551234211272), ('remarkable washington post', 0.00094199757006696583), ('mnuchin washington post', 0.00094213799285336464), ('gambit washington post', 0.0009422060964090484), ('autism washington post', 0.0009424772240783641), ('cannes washington post', 0.00094271886580421516), ('upsets washington post', 0.00094286875753135657), ('corporations washington post', 0.00094346780314136236), ('chance washington post', 0.00094421811151290669), ('picked washington post', 0.00094432881593320417), ('tools washington post', 0.00094531012790366464), ('black washington post', 0.00094546802131156849), ('crusade washington post', 0.00094553887625825617), ('enquirer washington post', 0.00094562530582620319), ('tried washington post', 0.00094612223284606944), ('close washington post', 0.00094634789542380471), ('wisconsin washington post', 0.00094679591554236442), ('confusing washington post', 0.00094746144944046762), ('houston washington post', 0.00094766683083502556), ('history washington post', 0.00094773005785242503), ('edge washington post', 0.00094793840972307031), ('away washington post', 0.00094821411158219071), ('awakening washington post', 0.00094886772952063048), ('tuesday washington post', 0.00094891545714703707), ('draws washington post', 0.00095061399602947017), ('format washington post', 0.00095090335417602478), ('studio washington post', 0.00095102432158067352), ('barely washington post', 0.00095131509998103159), ('escalates washington post', 0.00095136311622101566), ('affairs washington post', 0.00095177186166461869), ('rivalry washington post', 0.00095215736005882512), ('addiction washington post', 0.00095301410066606085), ('lot washington post', 0.00095337301740405778), ('risk washington post', 0.00095354885539722378), ('memoir washington post', 0.000954597069480978), ('feared washington post', 0.00095489593703013131), ('education washington post', 0.00095571285251216942), ('health washington post', 0.00095670783516488278), ('regulate washington post', 0.00095734303201544524), ('royals washington post', 0.00095974385913388804), ('injury washington post', 0.00095988387779244455), ('forest washington post', 0.00096028198673181464), ('superstar washington post', 0.00096128976670395438), ('medication washington post', 0.0009614285888216445), ('lawyers washington post', 0.00096301925652464426), ('fox washington post', 0.00096317870732354205), ('hunt washington post', 0.00096345021808907916), ('aide washington post', 0.00096393903749036891), ('career washington post', 0.00096400560781551015), ('makeover washington post', 0.00096401516950805899), ('toys washington post', 0.00096453471885815656), ('bromance washington post', 0.00096520595737115134), ('dynasty washington post', 0.00096561468352984736), ('uncertainty washington post', 0.00096596689549655057), ('racists washington post', 0.00096607818657534761), ('aggressive washington post', 0.00096624229500807957), ('eat washington post', 0.00096672319808499552), ('desperation washington post', 0.00096762865945554388), ('cast washington post', 0.00096773068436650789), ('showed washington post', 0.00096815785594139836), ('abuser washington post', 0.00096827340770910819), ('map washington post', 0.00096845652858279507), ('split washington post', 0.00096888003018258395), ('heartbreak washington post', 0.00096898161984892983), ('strangers washington post', 0.00096901925324499594), ('financing washington post', 0.0009696436148098897), ('penny washington post', 0.00097208821024086234), ('colleges washington post', 0.00097268116697291074), ('division washington post', 0.00097600354861981931), ('version washington post', 0.00097623873892160873), ('belief washington post', 0.00097639120114823008), ('wallace washington post', 0.00097783238467974432), ('heal washington post', 0.0009779680129631263), ('cleveland washington post', 0.00097839592317772173), ('wright washington post', 0.00097885818034548766), ('roots washington post', 0.00097904341635857151), ('herpes washington post', 0.0009790902884644348), ('mapped washington post', 0.00097937870853848086), ('nfc washington post', 0.00097983006968960229), ('reversed washington post', 0.00098081557185936141), ('sense washington post', 0.0009809194175878222), ('breathe washington post', 0.00098099543795848732), ('suits washington post', 0.00098100836952785819), ('risks washington post', 0.00098137236325124277), ('document washington post', 0.00098192836384336513), ('recklessness washington post', 0.00098244564357274911), ('suicides washington post', 0.00098245003749830584), ('predictions washington post', 0.00098267139199637032), ('cavs washington post', 0.00098267748431424273), ('therapy washington post', 0.00098339437979344524), ('direction washington post', 0.00098408153639784057), ('resilience washington post', 0.00098424504628435994), ('stakes washington post', 0.00098475902263805981), ('slip washington post', 0.00098511109924936946), ('players washington post', 0.00098526087090677894), ('militants washington post', 0.00098539406501663152), ('kushner washington post', 0.00098635834989557747), ('goal washington post', 0.00098643446408031021), ('duties washington post', 0.00098645690726151258), ('fooled washington post', 0.00098668006889668369), ('bureau washington post', 0.00098677855882489673), ('quite washington post', 0.00098783968079296791), ('31 washington post', 0.00098897274939901969), ('attention washington post', 0.00098966184539295288), ('pocket washington post', 0.0009897020313152094), ('giving washington post', 0.00099073956530681961), ('appeared washington post', 0.00099095744840449473), ('shrinking washington post', 0.00099138154838374071), ('war washington post', 0.00099224346527193585), ('finals washington post', 0.00099246093371108124), ('survived washington post', 0.00099527233105789481), ('democracy washington post', 0.00099546430714514411), ('mines washington post', 0.00099578309114012331), ('mountains washington post', 0.00099584554890264076), ('thaw washington post', 0.00099597540691365172), ('disappearance washington post', 0.00099713750612306917), ('oligarch washington post', 0.00099778487532853344), ('netflix washington post', 0.00099782954085214648), ('com washington post', 0.00099858733620827866), ('tool washington post', 0.00099867577093815108), ('vikings washington post', 0.00099877304780671139), ('making washington post', 0.00099947649016773887), ('bacteria washington post', 0.00099983760849353676), ('complaints washington post', 0.0010007338652973097), ('gap washington post', 0.0010010054589589812), ('follow washington post', 0.0010012496080189504), ('cash washington post', 0.0010017674481513916), ('uber washington post', 0.0010023831191078303), ('washington post covering', 0.0010027053498892213), ('bow washington post', 0.0010029791108602248), ('stadiums washington post', 0.0010035852115324317), ('hacker washington post', 0.0010036141820025657), ('fall washington post', 0.001003648380146327), ('enclave washington post', 0.0010042428958039196), ('ski washington post', 0.0010051160625816902), ('affair washington post', 0.0010056988601964134), ('win washington post', 0.0010083766087378709), ('dictators washington post', 0.001009437290418802), ('suit washington post', 0.0010106636360128762), ('antibiotics washington post', 0.0010115880608845274), ('takeoff washington post', 0.0010124184678650394), ('doing washington post', 0.001013166993531045), ('long washington post', 0.0010135422403513283), ('effects washington post', 0.0010141559177339055), ('weekend washington post', 0.0010145153095406645), ('concussion washington post', 0.0010146732257931834), ('cool washington post', 0.0010151687782850027), ('know washington post', 0.0010154084059448287), ('flaws washington post', 0.0010155908116489254), ('incumbents washington post', 0.0010156474026179474), ('claps washington post', 0.001016593130906851), ('defenders washington post', 0.0010179219941199857), ('kozinski washington post', 0.0010184177121825844), ('practice washington post', 0.0010189909279219034), ('curry washington post', 0.0010192630322406471), ('loyalists washington post', 0.0010196259061567847), ('spot washington post', 0.0010199267044846971), ('beat washington post', 0.0010201203755897392), ('didn washington post', 0.0010207304727655186), ('balance washington post', 0.0010209117789378164), ('way washington post', 0.0010210605064292499), ('halloween washington post', 0.0010213201596129817), ('case washington post', 0.0010213647623174005), ('essay washington post', 0.001021403727910597), ('waves washington post', 0.0010233111444698517), ('letter washington post', 0.001024340513329558), ('gruden washington post', 0.0010244651280170158), ('reefs washington post', 0.0010247120031198209), ('hint washington post', 0.0010251787195034723), ('power washington post', 0.0010253890643967534), ('perjury washington post', 0.0010260756644185909), ('loyalty washington post', 0.001026189325462612), ('blossoms washington post', 0.0010262708584328761), ('reacting washington post', 0.0010264006548487137), ('97 washington post', 0.001027020413512103), ('memory washington post', 0.0010272176707548653), ('penalty washington post', 0.0010283429793103149), ('instead washington post', 0.0010288982377106848), ('fiction washington post', 0.0010290768150429397), ('defended washington post', 0.0010292859616224392), ('arabia washington post', 0.0010300355193506583), ('survival washington post', 0.0010302274102452769), ('problem washington post', 0.0010309971577405763), ('sting washington post', 0.0010314116906607884), ('seriously washington post', 0.0010331202776310278), ('deal washington post', 0.0010337131034570124), ('relationships washington post', 0.0010344232155523603), ('smith washington post', 0.0010352380623752655), ('survive washington post', 0.0010359056055262439), ('reelection washington post', 0.0010377849003747608), ('climate washington post', 0.0010379368031244729), ('juggalos washington post', 0.0010380907386016158), ('teachers washington post', 0.0010381827884714534), ('catastrophe washington post', 0.0010383554729623823), ('better washington post', 0.0010391736544455021), ('performance washington post', 0.0010391838833826439), ('cells washington post', 0.0010401407618199077), ('martin washington post', 0.0010421793734348705), ('effect washington post', 0.00104279842979349), ('disinformation washington post', 0.0010429529789615088), ('applications washington post', 0.0010431539653752431), ('steelers washington post', 0.001043165156257575), ('scary washington post', 0.0010437725732350689), ('falsehoods washington post', 0.0010439821876596644), ('sell washington post', 0.00104400289618789), ('stuff washington post', 0.0010444348374496482), ('artists washington post', 0.0010451916677530759), ('choices washington post', 0.0010453010924417194), ('matchups washington post', 0.001045336642664707), ('derby washington post', 0.0010458521139535826), ('command washington post', 0.0010464335734130525), ('niger washington post', 0.0010468535365039111), ('play washington post', 0.0010479981766058355), ('software washington post', 0.0010489751621015619), ('gm washington post', 0.0010500928184520308), ('funny washington post', 0.0010504059717019176), ('doubt washington post', 0.0010509976442591995), ('consequences washington post', 0.00105228215121278), ('lobbyist washington post', 0.0010522880096660581), ('sale washington post', 0.0010529845645920188), ('surprises washington post', 0.0010530268012790556), ('bermuda washington post', 0.0010531999799578973), ('screwed washington post', 0.0010539693742402934), ('demonstrations washington post', 0.0010541779881348967), ('retire washington post', 0.00105456425580297), ('nunberg washington post', 0.0010545648635942317), ('voters washington post', 0.0010548044919354016), ('stir washington post', 0.0010548572922335353), ('elliott washington post', 0.0010550079495502684), ('true washington post', 0.0010552703966943966), ('rivalries washington post', 0.0010557036769109907), ('subway washington post', 0.0010559972800395778), ('surviving washington post', 0.0010562719047968461), ('purge washington post', 0.0010562857831535322), ('pneumonia washington post', 0.0010569748715190119), ('rejected washington post', 0.0010570725136623826), ('shutdown washington post', 0.0010587582502562531), ('jersey washington post', 0.0010592522858666742), ('gone washington post', 0.001059254319559666), ('raiders washington post', 0.0010594849365167525), ('mugabe washington post', 0.0010612250682895397), ('shadow washington post', 0.001061598477311354), ('tributes washington post', 0.0010627082886580652), ('key washington post', 0.0010644697022325067), ('districts washington post', 0.0010652465211352657), ('troubling washington post', 0.0010654709757234038), ('pollution washington post', 0.0010654990078668991), ('approach washington post', 0.0010658056693386708), ('gifts washington post', 0.0010667413045596374), ('weigh washington post', 0.0010668160948471561), ('schizophrenia washington post', 0.0010673664890955559), ('goon washington post', 0.0010674192680901751), ('backfire washington post', 0.0010677554538338629), ('read washington post', 0.0010686832439164018), ('books washington post', 0.0010687124270174486), ('storage washington post', 0.001069413519121265), ('teaming washington post', 0.0010695619706005965), ('sequel washington post', 0.0010713066787436665), ('rats washington post', 0.001071403447625241), ('appointment washington post', 0.0010718554474485886), ('bonkers washington post', 0.0010722602289213734), ('analyzed washington post', 0.0010736700520914688), ('conway washington post', 0.0010737085550770464), ('plants washington post', 0.0010745275400333432), ('suite washington post', 0.0010748650035250495), ('offseason washington post', 0.0010750300321147321), ('save washington post', 0.0010753444628297526), ('browns washington post', 0.0010754067525247102), ('opponent washington post', 0.0010757956051392625), ('laundry washington post', 0.0010763991230592351), ('absent washington post', 0.0010773951395728343), ('hope washington post', 0.0010778318080246763), ('relationship washington post', 0.0010778461098095438), ('dumpster washington post', 0.0010780407745043519), ('franco washington post', 0.0010786248122122144), ('kentucky washington post', 0.0010789447235579619), ('bare washington post', 0.001079299926916466), ('gates washington post', 0.0010794873643253933), ('criticism washington post', 0.001079488432101483), ('shocks washington post', 0.001079615725750882), ('staff washington post', 0.0010802516180731248), ('hassanen washington post', 0.0010803129549624702), ('contradiction washington post', 0.0010805593911746847), ('kicked washington post', 0.0010806647741536946), ('looks washington post', 0.0010809339337617407), ('washington post auto', 0.0010822893657950194), ('tops washington post', 0.001083095793170008), ('protesting washington post', 0.0010831579819514658), ('fashion washington post', 0.0010834931068681719), ('challenger washington post', 0.0010838691956448487), ('messaging washington post', 0.0010847183422647566), ('hear washington post', 0.001084830634884737), ('coordinator washington post', 0.0010851561095592821), ('overthrow washington post', 0.0010858809835704308), ('apology washington post', 0.0010870998223485584), ('erupt washington post', 0.0010872042832431594), ('degrees washington post', 0.0010881245459537503), ('rest washington post', 0.0010884319101912565), ('olympics washington post', 0.0010890495402194889), ('outreach washington post', 0.0010901292692606646), ('dissent washington post', 0.0010904468252578292), ('astronomy washington post', 0.0010910577415680356), ('uniforms washington post', 0.0010912016596185126), ('firm washington post', 0.0010916371638802769), ('sunday washington post', 0.001092028633259412), ('flagrant washington post', 0.0010921541556669911), ('shunned washington post', 0.0010926910656199329), ('comparisons washington post', 0.0010936114863704383), ('adviser washington post', 0.0010936512080589322), ('vision washington post', 0.0010945397103404586), ('peaceful washington post', 0.0010949067526795364), ('intelligence washington post', 0.0010957734540296693), ('programs washington post', 0.001095927879916192), ('monitoring washington post', 0.0010968890164725353), ('dealmaker washington post', 0.0010970654451344375), ('irving washington post', 0.001097227089649877), ('likes washington post', 0.0010975788005264109), ('homeless washington post', 0.0010981802856794287), ('strife washington post', 0.001098852757118518), ('alerts washington post', 0.0010990939622375073), ('island washington post', 0.0010994616326366335), ('vague washington post', 0.0010999823663253583), ('hare washington post', 0.0011003108743526946), ('draft washington post', 0.0011010246384600686), ('dust washington post', 0.0011010534232829272), ('women washington post', 0.00110126752581996), ('short washington post', 0.001101427054839732), ('horror washington post', 0.0011015054389311718), ('mueller washington post', 0.0011015442142516818), ('time washington post', 0.0011021968616561351), ('resentment washington post', 0.0011023994216380339), ('unequal washington post', 0.0011030921168984076), ('tiger washington post', 0.0011031007845561103), ('influence washington post', 0.0011031502966249995), ('shooting washington post', 0.0011031801345410264), ('fraught washington post', 0.0011040064121762283), ('wolf washington post', 0.0011043066632691056), ('eve washington post', 0.0011053422944641289), ('closing washington post', 0.0011054511975743253), ('big washington post', 0.0011057879635877343), ('greitens washington post', 0.0011059301201484795), ('breach washington post', 0.0011060550574575334), ('trails washington post', 0.0011067017042853955), ('aca washington post', 0.0011069652766234617), ('tragedy washington post', 0.0011070850696428547), ('poverty washington post', 0.001107175238020508), ('reach washington post', 0.0011086967839041284), ('enrichment washington post', 0.0011090826059961811), ('guests washington post', 0.0011097195976937924), ('golf washington post', 0.0011099863989615377), ('tsunami washington post', 0.0011114489585262177), ('worse washington post', 0.001111640244554235), ('little washington post', 0.0011117708256915826), ('listens washington post', 0.0011124149932432159), ('holdouts washington post', 0.0011124884884898822), ('cpr washington post', 0.0011128541321505647), ('movement washington post', 0.0011131437275254674), ('candidates washington post', 0.0011132398324903425), ('eggs washington post', 0.001113249327296173), ('rules washington post', 0.0011134145713339594), ('quicktake washington post', 0.0011143566411815353), ('opened washington post', 0.0011155047469366686), ('campaigning washington post', 0.001115661700147208), ('theorists washington post', 0.001116442570916476), ('promised washington post', 0.0011165134201090998), ('wrong washington post', 0.0011165799768401152), ('firestorm washington post', 0.0011166156613069411), ('music washington post', 0.0011176297524734258), ('assessment washington post', 0.0011179647002539372), ('dhabi washington post', 0.0011190001920554637), ('judges washington post', 0.0011191850961164151), ('dangerous washington post', 0.0011192230151134686), ('awards washington post', 0.0011210655939666303), ('exit washington post', 0.0011212883820249653), ('opioid washington post', 0.0011213960515178423), ('brand washington post', 0.0011216934667748202), ('hard washington post', 0.0011221224948846364), ('teammates washington post', 0.001122363508813673), ('ages washington post', 0.0011227155390441945), ('ed washington post', 0.0011231055789261424), ('washington post spy', 0.001123215926576715), ('congress washington post', 0.0011232931450027017), ('twist washington post', 0.0011235674819333186), ('likely washington post', 0.0011237037660555282), ('sabotage washington post', 0.0011244926567471891), ('path washington post', 0.0011259383885557916), ('alabama washington post', 0.0011260179964308614), ('jeweler washington post', 0.0011260592890112164), ('advantage washington post', 0.001126198689358926), ('properties washington post', 0.001126230962084751), ('misogyny washington post', 0.001127199914214172), ('helping washington post', 0.0011274978516955247), ('contract washington post', 0.0011300317019850015), ('message washington post', 0.0011302853523733614), ('lightning washington post', 0.0011303308981084337), ('dna washington post', 0.0011306482981240373), ('says washington post', 0.0011315482453537751), ('collision washington post', 0.0011317353220487991), ('wings washington post', 0.0011328817392322055), ('law washington post', 0.0011332913551197477), ('flooding washington post', 0.0011345534513975686), ('unrest washington post', 0.001134608919658775), ('rosenstein washington post', 0.0011348059213523998), ('expect washington post', 0.0011355529346704918), ('dearly washington post', 0.0011357236721427633), ('ancestor washington post', 0.0011360552342708496), ('continuity washington post', 0.0011361269433665111), ('reality washington post', 0.0011361862582953686), ('job washington post', 0.0011362729473385347), ('mode washington post', 0.0011363540014366347), ('involved washington post', 0.001137804941929943), ('questionable washington post', 0.0011380466121070354), ('troubles washington post', 0.0011384229449832306), ('interference washington post', 0.0011404039317284287), ('lost washington post', 0.0011411167139170342), ('core washington post', 0.0011419273667540031), ('opponents washington post', 0.0011423529859715398), ('marathon washington post', 0.0011429023760572976), ('2003 washington post', 0.0011437443052860763), ('tournament washington post', 0.0011438018728272548), ('pill washington post', 0.0011440009835884668), ('induction washington post', 0.0011441384749517614), ('bachelorette washington post', 0.0011442224449718097), ('starting washington post', 0.0011443610513643954), ('extinction washington post', 0.0011444430163494168), ('lines washington post', 0.0011445084783497927), ('voting washington post', 0.0011469456803574474), ('plan washington post', 0.001147006563007702), ('presidency washington post', 0.0011470632861667607), ('washington post expect', 0.0011471803699590888), ('saying washington post', 0.0011472601895333723), ('halftime washington post', 0.0011491916112986722), ('retreat washington post', 0.0011497465846028732), ('answer washington post', 0.0011499825757467219), ('investigators washington post', 0.0011499846081759468), ('data washington post', 0.0011502889596463062), ('brutalized washington post', 0.0011510873550442113), ('crisis washington post', 0.0011511600933291621), ('thing washington post', 0.0011514512948290756), ('right washington post', 0.0011522212322576664), ('depart washington post', 0.0011529698896604046), ('lonzo washington post', 0.0011536908074650798), ('scandal washington post', 0.0011539105642591752), ('holidays washington post', 0.0011550326372306019), ('axis washington post', 0.0011552740789019245), ('fraud washington post', 0.0011553150834351378), ('finish washington post', 0.0011555335474883188), ('later washington post', 0.0011561697689297379), ('reckoning washington post', 0.0011569278712522113), ('families washington post', 0.0011570137345483511), ('mirror washington post', 0.0011570695771438988), ('fans washington post', 0.0011570937004843351), ('adversary washington post', 0.0011575888118328104), ('view washington post', 0.0011576334917292597), ('losers washington post', 0.0011580753937883159), ('responded washington post', 0.0011581047800957034), ('access washington post', 0.0011581766004600258), ('leaving washington post', 0.0011589517624647216), ('arrival washington post', 0.001159412662807946), ('firefighting washington post', 0.0011599885669670851), ('shine washington post', 0.0011606548179222687), ('kiss washington post', 0.0011616598322479188), ('withdrawing washington post', 0.0011619395979334257), ('allies washington post', 0.0011622468577531242), ('travel washington post', 0.0011631111095579127), ('weakness washington post', 0.0011631439841621738), ('abound washington post', 0.0011638185425530967), ('hometown washington post', 0.0011642611491293753), ('heartbroken washington post', 0.0011647103949895543), ('question washington post', 0.0011651625697172152), ('sort washington post', 0.0011654525721942477), ('treatment washington post', 0.0011657228963047883), ('bailouts washington post', 0.0011657953726129655), ('sorvino washington post', 0.0011660284587640124), ('buy washington post', 0.0011662197307122923), ('backward washington post', 0.0011662789514164107), ('seen washington post', 0.0011674493783021545), ('punishments washington post', 0.0011674558361101095), ('liar washington post', 0.0011677772330166425), ('think washington post', 0.0011678095721299186), ('teaching washington post', 0.0011678359455500331), ('teammate washington post', 0.00116790235845321), ('person washington post', 0.0011681090865581778), ('reputation washington post', 0.0011692836793042449), ('usual washington post', 0.0011693221057540448), ('political washington post', 0.001169343863912764), ('resistance washington post', 0.0011693817332449896), ('cycle washington post', 0.0011698266206365826), ('residency washington post', 0.0011705047483618891), ('relevant washington post', 0.0011705321453827633), ('theories washington post', 0.0011708595792455645), ('signing washington post', 0.001172076860149085), ('stance washington post', 0.0011726530918242384), ('ouster washington post', 0.001172685920334815), ('cruelty washington post', 0.0011727459573415144), ('guarantee washington post', 0.001172781426173608), ('change washington post', 0.001173603266642953), ('village washington post', 0.0011738566159718022), ('wednesday washington post', 0.0011743762920622958), ('make washington post', 0.001174650453195647), ('views washington post', 0.0011747053427946241), ('illnesses washington post', 0.001174832295756767), ('deadline washington post', 0.001174928452030044), ('whiskey washington post', 0.0011759227814819306), ('bar washington post', 0.0011761083780436055), ('tank washington post', 0.0011771442589170178), ('pandemic washington post', 0.0011773365287719439), ('new washington post', 0.0011780895510128397), ('mysteries washington post', 0.0011781479928510974), ('disaster washington post', 0.0011792257696510156), ('underdogs washington post', 0.0011800921668139175), ('coupon washington post', 0.0011808741857692873), ('65 washington post', 0.0011810747479821249), ('reads washington post', 0.0011812899473535587), ('seahawks washington post', 0.0011814284417448473), ('protections washington post', 0.0011815011521243424), ('immigrants washington post', 0.0011818728224983754), ('83 washington post', 0.0011825139550611929), ('kelly washington post', 0.0011826137805873715), ('tweeting washington post', 0.001182861880441366), ('weird washington post', 0.0011829090271205933), ('analytica washington post', 0.0011831436629897718), ('sherman washington post', 0.0011838067823485288), ('fight washington post', 0.001184277841295045), ('fault washington post', 0.0011845941581285491), ('age washington post', 0.0011851216011988797), ('seat washington post', 0.001185135002039206), ('alexandria washington post', 0.0011854340319856771), ('emails washington post', 0.0011858602764235338), ('corruption washington post', 0.0011876942206069385), ('celebrations washington post', 0.001187752213296478), ('revelations washington post', 0.0011880648608342259), ('stressful washington post', 0.0011899890727982143), ('beds washington post', 0.0011901547401084178), ('heller washington post', 0.0011902924461282272), ('cleansing washington post', 0.0011903675401998548), ('bonn washington post', 0.0011905319053574503), ('glasses washington post', 0.0011906732383729635), ('daniels washington post', 0.0011907903126232577), ('meant washington post', 0.0011911764648325773), ('reprehensible washington post', 0.0011916111843224275), ('options washington post', 0.0011919942904095038), ('style washington post', 0.001193186760726328), ('lii washington post', 0.0011933546848346133), ('century washington post', 0.0011935623705890963), ('racism washington post', 0.0011937844535649944), ('mavericks washington post', 0.0011942708936273361), ('protests washington post', 0.0011943201178655771), ('don washington post', 0.0011944796793993406), ('prosecution washington post', 0.0011951120103264046), ('jogging washington post', 0.0011951330180247632), ('putin washington post', 0.001195170339854168), ('gortat washington post', 0.0011954470176968046), ('pursuit washington post', 0.0011955211729871573), ('memories washington post', 0.0011957032125021749), ('overturned washington post', 0.0011962374017517874), ('divisions washington post', 0.0011964438292939583), ('villains washington post', 0.0011965455953016901), ('md washington post', 0.0011969532138252914), ('trip washington post', 0.0011972576239326349), ('salt washington post', 0.0011976055150824116), ('washington post justifies', 0.0011982581000724579), ('advocates washington post', 0.0011982654835028805), ('operatives washington post', 0.0011987592556743643), ('tryst washington post', 0.0011997345972014628), ('disgraceful washington post', 0.0011998512702225961), ('hospitals washington post', 0.0012002692182982999), ('broncos washington post', 0.0012003678304881582), ('dominating washington post', 0.001200629886740967), ('grip washington post', 0.0012013379773917476), ('services washington post', 0.0012013703424953448), ('mother washington post', 0.0012014665043698081), ('diabetes washington post', 0.0012017540315151232), ('exile washington post', 0.0012020150858844669), ('team washington post', 0.0012020450641486713), ('politics washington post', 0.0012020455594906609), ('bigger washington post', 0.0012026411504849621), ('courtship washington post', 0.0012030686528442525), ('denied washington post', 0.0012032518285522986), ('tampa washington post', 0.0012034816667981785), ('friends washington post', 0.0012037518562109106), ('prescribing washington post', 0.0012041257406397721), ('irregularities washington post', 0.0012048875954173699), ('rematch washington post', 0.0012052482886891758), ('occurred washington post', 0.0012053018990060282), ('warranted washington post', 0.0012054061419921602), ('word washington post', 0.0012059903719061627), ('converts washington post', 0.0012071922154655024), ('condolence washington post', 0.0012085379190375223), ('deep washington post', 0.0012090240721975842), ('teeters washington post', 0.0012090819032962719), ('qb washington post', 0.0012094477879287524), ('leave washington post', 0.001209930740916132), ('cryptocurrency washington post', 0.0012105736363272612)]\n"
     ]
    }
   ],
   "source": [
    "print(sorted_dict[10000:20000])"
   ]
  },
  {
   "cell_type": "code",
   "execution_count": 68,
   "metadata": {},
   "outputs": [],
   "source": [
    "# Create empty list of dictionaries for titles\n",
    "title_dict = {}\n",
    "\n",
    "# Loop through title list\n",
    "for i in range(0,len(coef_list)-1):\n",
    "    for item in coef_list[i]:\n",
    "        if type(item) is str:\n",
    "            #title_json.append({'phrase': item, 'probab': logreg.predict_proba(vectorizer.transform([item]))[0][0]})\n",
    "            title_dict[item] = logreg.predict_proba(vectorizer.transform([item]))[0][0]\n",
    "            #title_list.append(title_dict)\n",
    "            \n",
    "#title_dict\n",
    "            \n",
    "import json\n",
    "\n",
    "# Write list of dictionaries to JS file\n",
    "with open ('model-data-new.json', 'w') as outfile:\n",
    "    json.dump([title_list], outfile)"
   ]
  },
  {
   "cell_type": "code",
   "execution_count": 119,
   "metadata": {
    "collapsed": true
   },
   "outputs": [],
   "source": [
    "# Dependencies\n",
    "from sklearn.feature_extraction.text import CountVectorizer\n",
    "from sklearn.linear_model import LogisticRegression\n",
    "from sklearn.model_selection import train_test_split\n",
    "\n",
    "# Create a matrix of word count using CountVectorizer\n",
    "# Count single words and word pairs (ngram_range = 1-2)\n",
    "vectorizer = CountVectorizer(stop_words='english', ngram_range=(2,3))\n",
    "\n",
    "# Fit and transform data\n",
    "X = vectorizer.fit_transform(df_combined['title'])\n",
    "\n",
    "# Create training and test split\n",
    "X_train, X_test, y_train, y_test  = train_test_split(X, df_combined['bias'], random_state=42, \n",
    "                                                    stratify=df_combined['bias'])\n",
    "\n",
    "# Create the model and fit the training data\n",
    "logreg = LogisticRegression()\n",
    "logreg.fit(X_train,y_train)\n",
    "\n",
    "#logreg.score(X_test,y_test)\n",
    "\n",
    "a = zip(logreg.coef_.tolist()[0],list(vectorizer.get_feature_names()))\n",
    "b = list(a)\n",
    "b.sort()"
   ]
  },
  {
   "cell_type": "code",
   "execution_count": 23,
   "metadata": {},
   "outputs": [
    {
     "name": "stdout",
     "output_type": "stream",
     "text": [
      "1769280\n"
     ]
    }
   ],
   "source": [
    "print(len(vectorizer.get_feature_names()))"
   ]
  },
  {
   "cell_type": "code",
   "execution_count": 135,
   "metadata": {},
   "outputs": [
    {
     "data": {
      "text/plain": [
       "array([[ 0.22263179,  0.77736821]])"
      ]
     },
     "execution_count": 135,
     "metadata": {},
     "output_type": "execute_result"
    }
   ],
   "source": [
    "logreg.predict_proba(vectorizer.transform(['syria war']))"
   ]
  },
  {
   "cell_type": "code",
   "execution_count": 187,
   "metadata": {},
   "outputs": [
    {
     "name": "stdout",
     "output_type": "stream",
     "text": [
      "[90.550753572625112, 93.301483246755623, 94.016395249112975, 96.443661108029289, 96.712372869410416]\n",
      "[-75.854714214487345, -77.511498328533079, -77.736821015758963, -80.368374524988155, -82.59889590187592]\n"
     ]
    }
   ],
   "source": [
    "right_words = ['2nd amendment', 'daca amnesty', 'open borders', 'illegal immigrant', 'islamic state']\n",
    "\n",
    "right_scores = []\n",
    "\n",
    "for phrase in right_words:\n",
    "    score = logreg.predict_proba(vectorizer.transform([phrase]))[0][0] * 100\n",
    "    right_scores.append(score)\n",
    "    \n",
    "left_words = ['undocumented immigrants', 'muslim ban', 'syria war', 'family separations', 'russia inquiry']\n",
    "\n",
    "left_scores = []\n",
    "\n",
    "for phrase in left_words:\n",
    "    score = -logreg.predict_proba(vectorizer.transform([phrase]))[0][1] * 100\n",
    "    left_scores.append(score)\n",
    "    \n",
    "print(right_scores)\n",
    "print(left_scores)"
   ]
  },
  {
   "cell_type": "code",
   "execution_count": 197,
   "metadata": {},
   "outputs": [
    {
     "data": {
      "text/plain": [
       "'file://C:\\\\Users\\\\spenc\\\\Documents\\\\pattern\\\\joint-bar.html'"
      ]
     },
     "execution_count": 197,
     "metadata": {},
     "output_type": "execute_result"
    }
   ],
   "source": [
    "import plotly\n",
    "import plotly.graph_objs as go\n",
    "import numpy as np\n",
    "\n",
    "left_text = []\n",
    "for i in range(0,5):\n",
    "    text = left_words[i] + ' ' + str(round(left_scores[i],1)) + '% '\n",
    "    left_text.append(text)\n",
    "    \n",
    "right_text = []\n",
    "for i in range(0,5):\n",
    "    text = right_words[i] + ' ' + str(round(right_scores[i],1)) + '% '\n",
    "    right_text.append(text)\n",
    "\n",
    "trace1 = go.Bar(\n",
    "    y = np.arange(1,6),\n",
    "    x = left_scores,\n",
    "    text = left_text,\n",
    "    textposition = 'auto',\n",
    "    textfont = dict(size = 16, color = 'white'),\n",
    "    hoverinfo = 'none',\n",
    "    name = 'Left',\n",
    "    orientation = 'h',\n",
    "    marker = dict(color = 'blue'),\n",
    "    offset = [-0.5,-1,-1,-1,0]\n",
    ")\n",
    "trace2 = go.Bar(\n",
    "    y = np.arange(1,6),\n",
    "    x = right_scores,\n",
    "    text = right_text,\n",
    "    textposition = 'auto',\n",
    "    textfont = dict(size = 16, color = 'white'),\n",
    "    hoverinfo = 'none',\n",
    "    name = 'Right',\n",
    "    orientation = 'h',\n",
    "    marker = dict(color = 'red')\n",
    ")\n",
    "\n",
    "data = [trace1, trace2]\n",
    "\n",
    "layout = go.Layout(\n",
    "    barmode='group',\n",
    "    title = '<b>Model Phrase Probability</b>',\n",
    "    titlefont = dict(\n",
    "        size = 24\n",
    "    ),\n",
    "    yaxis = dict(\n",
    "        showticklabels = False\n",
    "    ),\n",
    "    xaxis = dict(\n",
    "        title = 'Probability that article has left/right bias',\n",
    "    )\n",
    ")\n",
    "\n",
    "fig = go.Figure(data=data, layout=layout)\n",
    "plotly.offline.plot(fig, filename = 'joint-bar.html')"
   ]
  },
  {
   "cell_type": "code",
   "execution_count": 189,
   "metadata": {},
   "outputs": [
    {
     "data": {
      "text/plain": [
       "'file://C:\\\\Users\\\\spenc\\\\Documents\\\\pattern\\\\right-bar.html'"
      ]
     },
     "execution_count": 189,
     "metadata": {},
     "output_type": "execute_result"
    }
   ],
   "source": [
    "data1 = [trace1]\n",
    "data2 = [trace2]\n",
    "\n",
    "layout = go.Layout(\n",
    "    barmode='group',\n",
    "    title = '<b>Left Bias Probability</b>',\n",
    "    titlefont = dict(\n",
    "        size = 24\n",
    "    ),\n",
    "    yaxis = dict(\n",
    "        showticklabels = False\n",
    "    ),\n",
    "    xaxis = dict(\n",
    "        title = 'Probability that article bias is left',\n",
    "    )\n",
    ")\n",
    "\n",
    "fig = go.Figure(data=data1, layout=layout)\n",
    "plotly.offline.plot(fig, filename = 'left-bar.html')\n",
    "\n",
    "layout = go.Layout(\n",
    "    barmode='group',\n",
    "    title = '<b>Right Bias Probability</b>',\n",
    "    titlefont = dict(\n",
    "        size = 24\n",
    "    ),\n",
    "    yaxis = dict(\n",
    "        showticklabels = False\n",
    "    ),\n",
    "    xaxis = dict(\n",
    "        title = 'Probability that article bias is right',\n",
    "    )\n",
    ")\n",
    "\n",
    "fig = go.Figure(data=data2, layout=layout)\n",
    "plotly.offline.plot(fig, filename = 'right-bar.html')"
   ]
  },
  {
   "cell_type": "code",
   "execution_count": null,
   "metadata": {
    "collapsed": true
   },
   "outputs": [],
   "source": []
  }
 ],
 "metadata": {
  "kernelspec": {
   "display_name": "Python 3",
   "language": "python",
   "name": "python3"
  },
  "language_info": {
   "codemirror_mode": {
    "name": "ipython",
    "version": 3
   },
   "file_extension": ".py",
   "mimetype": "text/x-python",
   "name": "python",
   "nbconvert_exporter": "python",
   "pygments_lexer": "ipython3",
   "version": "3.6.3"
  }
 },
 "nbformat": 4,
 "nbformat_minor": 2
}
