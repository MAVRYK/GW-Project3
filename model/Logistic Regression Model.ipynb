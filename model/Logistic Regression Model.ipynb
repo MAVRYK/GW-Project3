{
 "cells": [
  {
   "cell_type": "markdown",
   "metadata": {},
   "source": [
    "<h1>Import titles using Pickle</h1>"
   ]
  },
  {
   "cell_type": "code",
   "execution_count": 5,
   "metadata": {
    "collapsed": true
   },
   "outputs": [],
   "source": [
    "# Dependencies\n",
    "import pickle\n",
    "\n",
    "def ReadFile(file_name, title_list):\n",
    "    \n",
    "    # Open the files ('rb' is for read binary)\n",
    "    file_object = open(file_name,'rb')\n",
    "    \n",
    "    # Load files into list using pickle\n",
    "    in_list = pickle.load(file_object)\n",
    "    \n",
    "    # Close files\n",
    "    file_object.close()\n",
    "    \n",
    "    # Add list just read in to existing list\n",
    "    title_list.extend(in_list)\n",
    "    \n",
    "    return(title_list)"
   ]
  },
  {
   "cell_type": "code",
   "execution_count": 6,
   "metadata": {},
   "outputs": [
    {
     "name": "stdout",
     "output_type": "stream",
     "text": [
      "57112\n",
      "105279\n"
     ]
    }
   ],
   "source": [
    "# Crate empty list for left sites\n",
    "left_title_list = []\n",
    "\n",
    "# Read left sites\n",
    "left_title_list = ReadFile(\"data/atlantic_titles\", left_title_list)\n",
    "left_title_list = ReadFile(\"data/BBC_titles\", left_title_list)\n",
    "left_title_list = ReadFile(\"data/mjones_titles\", left_title_list)\n",
    "left_title_list = ReadFile(\"data/newrepublic_titles\", left_title_list)\n",
    "left_title_list = ReadFile(\"data/politico_titles\", left_title_list)\n",
    "left_title_list = ReadFile(\"data/slate_titles\", left_title_list)\n",
    "left_title_list = ReadFile(\"data/thedailybeast_titles\", left_title_list)\n",
    "left_title_list = ReadFile(\"data/theguardian_titles\", left_title_list)\n",
    "left_title_list = ReadFile(\"data/theintercept_titles\", left_title_list)\n",
    "\n",
    "#***MAKE SURE THIS NUMBER MATCHES THE NUMBER OF DOCUMENTS IN MONGODB***\n",
    "print(len(left_title_list))\n",
    "\n",
    "# Crate empty list for right sites\n",
    "right_title_list = []\n",
    "\n",
    "# Read right sites\n",
    "right_title_list = ReadFile(\"data/americanconservative_titles\", right_title_list)\n",
    "right_title_list = ReadFile(\"data/breitbart_titles\", right_title_list)\n",
    "right_title_list = ReadFile(\"data/dailywire_titles\", right_title_list)\n",
    "right_title_list = ReadFile(\"data/economist_titles\", right_title_list)\n",
    "right_title_list = ReadFile(\"data/fiscaltimes_titles\", right_title_list)\n",
    "right_title_list = ReadFile(\"data/foxnews_titles\", right_title_list)\n",
    "right_title_list = ReadFile(\"data/nypost_titles\", right_title_list)\n",
    "right_title_list = ReadFile(\"data/reason_titles\", right_title_list)\n",
    "right_title_list = ReadFile(\"data/thehill_titles\", right_title_list)\n",
    "right_title_list = ReadFile(\"data/washtimes_titles\", right_title_list)\n",
    "\n",
    "#***MAKE SURE THIS NUMBER MATCHES THE NUMBER OF DOCUMENTS IN MONGODB***\n",
    "print(len(right_title_list))"
   ]
  },
  {
   "cell_type": "markdown",
   "metadata": {},
   "source": [
    "<h1>Combine Right & Left Dataframes</h1>"
   ]
  },
  {
   "cell_type": "code",
   "execution_count": 7,
   "metadata": {},
   "outputs": [
    {
     "name": "stdout",
     "output_type": "stream",
     "text": [
      "   bias                                              title\n",
      "0     1  Conservative High Schoolers Want to ‘Own the L...\n",
      "1     1  The Instagram Forums Where Teens Go to Debate ...\n",
      "2     1  The Doomed Republican Attempt to Impeach Rod R...\n",
      "3     1                          Facebook Is Probably Fine\n",
      "4     1                  Secretary of a State of Confusion\n",
      "(57112, 2)\n",
      "\n",
      "   bias                                        title\n",
      "0     0               Fruits Of The Quiet Revolution\n",
      "1     0               Trust And Mistrust In Churches\n",
      "2     0   A Democratic President From Trump Country?\n",
      "3     0  ‘Arab NATO’: A Terrible Idea That Won’t Die\n",
      "4     0                       TAC Fall Intern Wanted\n",
      "(105279, 2)\n",
      "\n",
      "(162391, 2)\n"
     ]
    }
   ],
   "source": [
    "# Dependencies\n",
    "import pandas as pd\n",
    "import numpy as np\n",
    "\n",
    "# Bias of 1 -> Left; Bias of 0 -> Right\n",
    "df1 = pd.DataFrame({'title': np.array(left_title_list), 'bias': 1})\n",
    "df2 = pd.DataFrame({'title': np.array(right_title_list), 'bias': 0})\n",
    "\n",
    "print(df1.head())\n",
    "print(df1.shape)\n",
    "print()\n",
    "print(df2.head())\n",
    "print(df2.shape)\n",
    "\n",
    "df_combined = pd.concat([df1, df2])\n",
    "print()\n",
    "print(df_combined.shape)"
   ]
  },
  {
   "cell_type": "markdown",
   "metadata": {},
   "source": [
    "<h1>Logistic Regression on Words in Title</h1>"
   ]
  },
  {
   "cell_type": "code",
   "execution_count": 95,
   "metadata": {
    "collapsed": true
   },
   "outputs": [],
   "source": [
    "# Dependencies\n",
    "from sklearn.feature_extraction.text import CountVectorizer\n",
    "from sklearn.linear_model import LogisticRegression\n",
    "from sklearn.model_selection import train_test_split\n",
    "\n",
    "stop_words_list = ['english', None]\n",
    "ngrams_list = [(1,2), (1,3), (2,3)]\n",
    "col_list = []\n",
    "for item in stop_words_list:\n",
    "    for ngram in ngrams_list:\n",
    "        col_list.append([item, ngram])\n",
    "\n",
    "results_list = []\n",
    "\n",
    "for item in col_list:\n",
    "\n",
    "    # Create a matrix of word count using CountVectorizer\n",
    "    # Count single words and word pairs (ngram_range = 1-2)\n",
    "    vectorizer = CountVectorizer(stop_words=item[0], ngram_range=item[1])\n",
    "\n",
    "    # Fit and transform data\n",
    "    X = vectorizer.fit_transform(df_combined['title'])\n",
    "\n",
    "    # Create training and test split\n",
    "    X_train, X_test, y_train, y_test  = train_test_split(X, df_combined['bias'], random_state=41)\n",
    "\n",
    "    # Create the model and fit the training data\n",
    "    logreg = LogisticRegression()\n",
    "    logreg.fit(X_train,y_train)\n",
    "\n",
    "    #logreg.score(X_test,y_test)\n",
    "\n",
    "    a = zip(logreg.coef_.tolist()[0],list(vectorizer.get_feature_names()))\n",
    "    b = list(a)\n",
    "    b.sort()\n",
    "    \n",
    "    results_list.append(b)"
   ]
  },
  {
   "cell_type": "code",
   "execution_count": 96,
   "metadata": {},
   "outputs": [
    {
     "name": "stdout",
     "output_type": "stream",
     "text": [
      "(-2.8670418502121082, 'islamic state') (4.746869180273421, 'mother jones')\n",
      "(-2.7377216207281942, 'dem senator') (4.307260082443813, 'country profile')\n",
      "(-2.4200407355194113, 'bozell graham') (3.101874051225947, 'the minute')\n",
      "(-2.384968191535314, 'illegal immigrant') (2.8427003928711514, 'stephen colbert')\n",
      "(-2.372359970152218, 'report trump') (2.688193593697761, 'seth meyers')\n",
      "(-2.3469184350716707, 'gop senator') (2.495900608357429, 'meghan markle')\n",
      "(-2.2050028779278397, 'dem lawmaker') (2.4836027575380406, 'intercepted podcast')\n",
      "(-2.160547051497032, 'illegal aliens') (2.3165487252252515, 'inside the')\n",
      "(-2.1292422048128623, 'dem rep') (2.2702031735942354, 'radio atlantic')\n",
      "(-2.067727731028444, 'gop rep') (2.151885911653669, 'after dark')\n",
      "(-2.063520016802268, 'watch cnn') (2.0913745973395876, 'why did')\n",
      "(-2.0587244679423025, 'illegal alien') (2.0836165270138154, 'russia inquiry')\n",
      "(-2.055302303753218, 'the latest') (1.9934458500964183, 'syria war')\n",
      "(-2.021334234913922, 'anti israel') (1.9722995752452865, 'the secret')\n",
      "(-1.9560160828703137, 'police say') (1.9703746095151302, 'with this')\n",
      "(-1.9458998285823996, 'open borders') (1.9503182590410457, 'michael flynn')\n",
      "(-1.9215320937424532, 'kal cartoon') (1.9433484612669767, 'family separations')\n",
      "(-1.9131961242146829, 'prageru video') (1.9421740521747362, 'why do')\n",
      "(-1.9084185486306808, 'maxine waters') (1.9232150466844566, 'the gop')\n",
      "(-1.859333798916275, 'illegal immigrants') (1.918295176193768, 'the republican')\n"
     ]
    }
   ],
   "source": [
    "# Show top 20 words/phrases for right and left\n",
    "for i in range(0,20):\n",
    "    print(b[i],b[len(b)-i-1])"
   ]
  },
  {
   "cell_type": "code",
   "execution_count": 112,
   "metadata": {},
   "outputs": [
    {
     "name": "stdout",
     "output_type": "stream",
     "text": [
      "RIGHT ['english', (1, 2)]\n",
      "['brickbat', 'delingpole', 'walsh', 'things need', 'politics week', 'dem', 'leftists', 'wapo', 'nolte', 'erickson', 'prageru', 'shapiro', 'amnesty', 'prager', 'limbaugh', 'business week', 'malkin', 'things know', 'pollak', 'virgil', 'leftist', 'msm', 'gop senator', 'wh', 'flashback', 'cartel', 'markets', 'exclusive', 'report', 'watch', 'ca', 'guess', 'german', 'abbas', 'pinkerton', 'illegal immigrant', 'libertarian', 'auction', 'illegals', 'judge roy', 'live coverage', 'ag', 'probing', 'poland', 'view table', 'lieu', 'tories', 'kassam', 'coulter', 'tancredo']\n",
      "\n",
      "RIGHT ['english', (1, 3)]\n",
      "['brickbat', 'delingpole', 'walsh', 'dem', 'politics week', 'leftists', 'erickson', 'amnesty', 'nolte', 'wapo', 'prageru', 'shapiro', 'limbaugh', 'prager', 'leftist', 'business week', 'malkin', 'gop senator', 'markets', 'exclusive', 'report', 'virgil', 'watch', 'pollak', 'things know', 'flashback', 'msm', 'wh', 'cartel', 'german', 'things need', 'guess', 'ca', 'libertarian', 'abbas', 'poland', 'things need know', 'ag', 'nyt', 'schumer', 'auction', 'illegals', 'dems', 'williams', 'professor', 'probing', 'uk', 'cnn', 'illegal immigrant', 'view table']\n",
      "\n",
      "RIGHT ['english', (2, 3)]\n",
      "['dem senator', 'islamic state', 'illegal immigrant', 'bozell graham', 'illegal aliens', 'dem lawmaker', 'gop senator', 'report trump', 'illegal alien', 'dem rep', 'anti israel', 'police say', 'illegal immigrants', 'open borders', 'gop rep', 'kal cartoon', 'business week', 'daca amnesty', 'maxine waters', 'watch cnn', 'politics week', 'gop lawmaker', 'things know', 'things need', 'report says', 'watch trump', 'college student', 'palestinian authority', 'things need know', 'temple mount', 'mexican cartel', 'prageru video', 'social justice', 'mass migration', 'watch shapiro', 'caroline glick', 'dem trump', 'mainstream media', 'texas border', '2nd amendment', 'view table', 'national anthem', 'pope francis', 'police arrest', 'jerry brown', 'south african', 'official says', 'reason roundup', 'state media', 'sanctuary city']\n",
      "\n",
      "RIGHT [None, (1, 2)]\n",
      "['brickbat', 'delingpole', 'walsh', 'dem', 'nolte', 'prageru', 'politics this', 'leftists', 'watch', 'virgil', 'prager', 'news first', 'pollak', 'things you', 'wapo', 'shapiro', 'erickson', 'leftist', 'amnesty', 'the latest', 'limbaugh', 'malkin', 'pinkerton', 'msm', 'wh', 'on yemen', 'exclusive', 'business this', 'report', 'flashback', 'gop senator', 'judge roy', 'libertarian', 'cartel', 'lieu', 'guess', 'german', 'probing', 'illegal immigrant', 'state blues', 'markets', 'poland', 'ag', 'illegals', 'nyt', 'zumwalt', 'the nuclear', 'tancredo', 'abbas', 'tories']\n",
      "\n",
      "RIGHT [None, (1, 3)]\n",
      "['brickbat', 'delingpole', 'walsh', 'dem', 'watch', 'leftists', 'prageru', 'the latest', 'nolte', 'amnesty', 'prager', 'virgil', 'exclusive', 'report', 'leftist', 'erickson', 'shapiro', 'limbaugh', 'pollak', 'wapo', 'malkin', 'gop senator', 'wh', 'msm', 'flashback', 'markets', 'german', 'libertarian', 'cartel', 'pinkerton', 'guess', 'nyt', 'poland', 'probing', 'ag', 'breaking', 'illegal', 'politics this', 'politics this week', 'lieu', 'cnn', 'things you need', 'islamic', 'dems', 'anti trump', 'illegal immigrant', 'professor', 'abbas', 'schumer', 'illegals']\n",
      "\n",
      "RIGHT [None, (2, 3)]\n",
      "['islamic state', 'dem senator', 'bozell graham', 'illegal immigrant', 'report trump', 'gop senator', 'dem lawmaker', 'illegal aliens', 'dem rep', 'gop rep', 'watch cnn', 'illegal alien', 'the latest', 'anti israel', 'police say', 'open borders', 'kal cartoon', 'prageru video', 'maxine waters', 'illegal immigrants', 'gop lawmaker', 'shapiro at', 'watch trump', 'daca amnesty', 'caroline glick', 'watch shapiro', 'things you need', 'on yemen', 'walsh the', 'report says', 'found dead', 'national anthem', 'social justice', 'war on yemen', 'fox news first', 'news first', 'mexican cartel', 'mainstream media', 'pope francis', 'reason roundup', 'palestinian authority', 'things you', 'dies after', '2nd amendment', 'college student', 'majority of', 'ms 13', 'pro life', 'per cent', 'erickson the']\n",
      "\n",
      "LEFT ['english', (1, 2)]\n",
      "['mother jones', 'letter africa', 'intercepted', 'profile', 'conservative media', 'country profile', 'lawsuit claims', 'today conservative', 'syria war', 'tracking trump', 'undocumented', 'live stream', 'intercepted podcast', 'muslim ban', 'standing rock', 'pelosi schumer', 'jobs report', 'cosby', 'trump latest', 'radio atlantic', 'nunes memo', 'nerdcast', 'trump policies', 'happened', 'rightwing', 'minute', 'transcript', 'gets wrong', 'scotus end', 'russia inquiry', 'korean leader', 'private prison', 'milo yiannopoulos', 'infowars', 'edition', 'invisible', 'slate', 'guardian reporter', 'watch live', 'policy daily', 'atlantic politics', 'ferguson', 'separation', 'korea latest', 'schumer takes', 'michael flynn', 'truther', 'anti abortion', 'things watch', 'shady']\n",
      "\n",
      "LEFT ['english', (1, 3)]\n",
      "['mother jones', 'profile', 'letter africa', 'intercepted', 'country profile', 'undocumented', 'conservative media', 'syria war', 'lawsuit claims', 'intercepted podcast', 'minute', 'muslim ban', 'happened', 'cosby', 'transcript', 'nunes memo', 'slate', 'radio atlantic', 'standing rock', 'nerdcast', 'jobs report', 'live stream', 'edition', 'trump latest', 'tracking trump', 'separation', 'colbert', 'favorite', 'michael flynn', 'pelosi schumer', 'inside', 'invisible', 'trump policies', 'ferguson', 'rightwing', 'hillary clinton', 'infowars', 'gets wrong', 'broadway', 'anti abortion', 'milo yiannopoulos', 'shady', 'watch live', 'private prison', 'things watch', 'russia inquiry', 'stephen colbert', 'today conservative media', 'today conservative', 'trumpworld']\n",
      "\n",
      "LEFT ['english', (2, 3)]\n",
      "['mother jones', 'country profile', 'trump dark', 'seth meyers', 'intercepted podcast', 'stephen colbert', 'meghan markle', 'radio atlantic', 'trevor noah', '45 dark', 'russia inquiry', 'letter africa', 'michael flynn', 'family separations', 'today trumpworld', 'scott walker', 'standing rock', 'new republic', 'syria war', 'fox friends', 'muslim ban', 'russia scandal', 'live stream', 'merrick garland', 'scott pruitt', 'family separation', 'undocumented immigrants', 'beast fiction', 'news quiz', 'cynthia nixon', 'profile timeline', 'tracking trump', 'john oliver', 'michael cohen', 'milo yiannopoulos', 'just happened', 'trump aides', 'long history', 'far right', 'republican healthcare', 'dear therapist', 'game thrones', 'alt right', 'trump latest', 'slate daily newsletter', 'slate daily', 'daily newsletter', 'trump war', 'paul manafort', 'trump america']\n",
      "\n",
      "LEFT [None, (1, 2)]\n",
      "['mother jones', 'to watch', 'profile', 'syria war', 'intercepted', 'country profile', 'conservative media', 'report on', 'intercepted podcast', 'undocumented', 'radio atlantic', 'the minute', 'nerdcast', 'from africa', 'pelosi schumer', 'cosby', 'lawsuit claims', 'standing rock', 'colbert', 'trump policies', 'with this', 'in conservative', 'politics policy', 'policy daily', 'atlantic politics', 'russia inquiry', 'house russia', 'infowars', 'watch live', 'guardian reporter', 'korean leader', 'muslim ban', 'separation', 'how', 'milo yiannopoulos', 'review of', 'private prison', 'edition', 'loses in', 'tracking trump', 'anti abortion', 'jobs report', 'to report', 'inquiry', 'michael flynn', 'far right', 'why', 'schumer takes', 'scotus end', 'advice for']\n",
      "\n",
      "LEFT [None, (1, 3)]\n",
      "['mother jones', 'profile', 'to watch', 'syria war', 'country profile', 'intercepted', 'report on', 'undocumented', 'intercepted podcast', 'colbert', 'how', 'conservative media', 'cosby', 'nerdcast', 'radio atlantic', 'why', 'the minute', 'with this', 'what', 'separation', 'lawsuit claims', 'donald trump is', 'review of', 'michael flynn', 'favorite', 'slate', 'inquiry', 'pruitt', 'these', 'infowars', 'standing rock', 'far right', 'trump policies', 'edition', 'zinke', 'muslim ban', 'russia inquiry', 'how to watch', 'hillary clinton', 'inside', 'anti muslim', 'stephen colbert', 'the', 'pelosi schumer', 'anti abortion', 'watch live', 'family separations', 'meghan', 'bill maher', 'seth']\n",
      "\n",
      "LEFT [None, (2, 3)]\n",
      "['mother jones', 'country profile', 'the minute', 'stephen colbert', 'seth meyers', 'meghan markle', 'intercepted podcast', 'inside the', 'radio atlantic', 'after dark', 'why did', 'russia inquiry', 'syria war', 'the secret', 'with this', 'michael flynn', 'family separations', 'why do', 'the gop', 'the republican', 'trevor noah', 'why is', 'profile timeline', 'full transcript', 'can the', 'scott pruitt', 'how trump', 'how the', 'how to', 'fox friends', 'standing rock', 'undocumented immigrants', 'scott walker', 'republicans are', 'michael cohen', 'paul manafort', 'john oliver', 'trump latest', 'why are', 'bill maher', 'is trump', 'family separation', 'can this', 'tracking trump', 'far right', 'cynthia nixon', 'trump after dark', 'beast fiction', 'how did', 'will trump']\n",
      "\n"
     ]
    }
   ],
   "source": [
    "for i, item in enumerate(col_list):\n",
    "    print(\"RIGHT\", item)\n",
    "    top_list = []\n",
    "    for mytuple in results_list[i][0:50]:\n",
    "        for word in mytuple:\n",
    "            if type(word) is str:\n",
    "                top_list.append(word)\n",
    "    print(top_list)\n",
    "    print()\n",
    "    \n",
    "for i, item in enumerate(col_list):\n",
    "    print(\"LEFT\", item)\n",
    "    top_list = []\n",
    "    for x in range(len(results_list[i])-1, len(results_list[i])-51, -1):\n",
    "        mytuple = results_list[i][x]\n",
    "        for word in mytuple:\n",
    "            if type(word) is str:\n",
    "                top_list.append(word)\n",
    "    print(top_list)\n",
    "    print()"
   ]
  },
  {
   "cell_type": "code",
   "execution_count": 103,
   "metadata": {},
   "outputs": [
    {
     "name": "stdout",
     "output_type": "stream",
     "text": [
      "(3.973954890231789, 'mother jones')\n"
     ]
    }
   ],
   "source": [
    "print(results_list[0][-1])"
   ]
  },
  {
   "cell_type": "code",
   "execution_count": 198,
   "metadata": {},
   "outputs": [
    {
     "data": {
      "text/plain": [
       "array([[ 0.22263179,  0.77736821]])"
      ]
     },
     "execution_count": 198,
     "metadata": {},
     "output_type": "execute_result"
    }
   ],
   "source": [
    "logreg.predict_proba(vectorizer.transform(['syria war']))"
   ]
  },
  {
   "cell_type": "code",
   "execution_count": 119,
   "metadata": {
    "collapsed": true
   },
   "outputs": [],
   "source": [
    "# Dependencies\n",
    "from sklearn.feature_extraction.text import CountVectorizer\n",
    "from sklearn.linear_model import LogisticRegression\n",
    "from sklearn.model_selection import train_test_split\n",
    "\n",
    "# Create a matrix of word count using CountVectorizer\n",
    "# Count single words and word pairs (ngram_range = 1-2)\n",
    "vectorizer = CountVectorizer(stop_words='english', ngram_range=(2,3))\n",
    "\n",
    "# Fit and transform data\n",
    "X = vectorizer.fit_transform(df_combined['title'])\n",
    "\n",
    "# Create training and test split\n",
    "X_train, X_test, y_train, y_test  = train_test_split(X, df_combined['bias'], random_state=42, \n",
    "                                                    stratify=df_combined['bias'])\n",
    "\n",
    "# Create the model and fit the training data\n",
    "logreg = LogisticRegression()\n",
    "logreg.fit(X_train,y_train)\n",
    "\n",
    "#logreg.score(X_test,y_test)\n",
    "\n",
    "a = zip(logreg.coef_.tolist()[0],list(vectorizer.get_feature_names()))\n",
    "b = list(a)\n",
    "b.sort()"
   ]
  },
  {
   "cell_type": "code",
   "execution_count": 177,
   "metadata": {},
   "outputs": [
    {
     "name": "stdout",
     "output_type": "stream",
     "text": [
      "1429053\n"
     ]
    }
   ],
   "source": [
    "print(len(vectorizer.get_feature_names()))"
   ]
  },
  {
   "cell_type": "markdown",
   "metadata": {},
   "source": [
    "<h1>Output Model Results to JSON File</h1>"
   ]
  },
  {
   "cell_type": "code",
   "execution_count": 204,
   "metadata": {
    "collapsed": true
   },
   "outputs": [],
   "source": [
    "d = {}\n",
    "\n",
    "for i in range(0,50):\n",
    "    for item in b[i]:\n",
    "        if type(item) is str:\n",
    "            d[item] = logreg.predict_proba(vectorizer.transform([item]))[0][0]\n",
    "            \n",
    "d\n",
    "            \n",
    "import json\n",
    "\n",
    "# Write list of dictionaries to JS file\n",
    "with open ('model-data.json', 'w') as outfile:\n",
    "    json.dump([d], outfile)"
   ]
  },
  {
   "cell_type": "code",
   "execution_count": 125,
   "metadata": {},
   "outputs": [
    {
     "name": "stdout",
     "output_type": "stream",
     "text": [
      "(-2.8709587981589006, 'dem senator') (4.6244598013699685, 'mother jones')\n",
      "(-2.847533708445915, 'islamic state') (4.0753937998460055, 'country profile')\n",
      "(-2.766185831324463, 'illegal immigrant') (3.2942659437524675, 'trump dark')\n",
      "(-2.5817079659390574, 'bozell graham') (2.7803726601483687, 'seth meyers')\n",
      "(-2.547365925271587, 'illegal aliens') (2.6959559454819844, 'intercepted podcast')\n",
      "(-2.530145724307294, 'dem lawmaker') (2.689758023257183, 'stephen colbert')\n",
      "(-2.4951857981155876, 'gop senator') (2.53966974589822, 'meghan markle')\n",
      "(-2.4366823881125983, 'report trump') (2.4868988575557447, 'radio atlantic')\n",
      "(-2.4216887461593735, 'illegal alien') (2.238659191271554, 'trevor noah')\n",
      "(-2.3796768895371394, 'dem rep') (2.1111985148542383, '45 dark')\n",
      "(-2.312465233749302, 'anti israel') (2.091504224759743, 'russia inquiry')\n",
      "(-2.3115555943607413, 'police say') (2.0820501926497603, 'letter africa')\n",
      "(-2.276756997136163, 'illegal immigrants') (1.9560269595909763, 'michael flynn')\n",
      "(-2.2204044278521353, 'open borders') (1.9435205058572893, 'family separations')\n",
      "(-2.2155965539787577, 'gop rep') (1.899128447280168, 'today trumpworld')\n",
      "(-2.1366475942218512, 'kal cartoon') (1.8788248300954353, 'scott walker')\n",
      "(-2.132714123216873, 'business week') (1.855065411592751, 'standing rock')\n",
      "(-2.099908314308158, 'daca amnesty') (1.8242183868710735, 'new republic')\n",
      "(-2.098689176092312, 'maxine waters') (1.7844364541593345, 'syria war')\n",
      "(-2.093442359502888, 'watch cnn') (1.7814062506713497, 'fox friends')\n",
      "(-2.0922401537597364, 'politics week') (1.7714637183708926, 'muslim ban')\n",
      "(-2.0805100272225685, 'gop lawmaker') (1.7578608606616914, 'russia scandal')\n",
      "(-1.9613909569410866, 'things know') (1.7435822237377439, 'live stream')\n",
      "(-1.9409420359513965, 'things need') (1.7294247493345674, 'merrick garland')\n",
      "(-1.915999929653079, 'report says') (1.728820643513073, 'scott pruitt')\n",
      "(-1.8894436421528125, 'watch trump') (1.694100742466444, 'family separation')\n",
      "(-1.8727429920248053, 'college student') (1.6787722694446363, 'undocumented immigrants')\n",
      "(-1.8633028894455697, 'palestinian authority') (1.6577969463854918, 'beast fiction')\n",
      "(-1.8584144345818763, 'things need know') (1.6501197164437056, 'news quiz')\n",
      "(-1.8476056498495539, 'temple mount') (1.6399572947396133, 'cynthia nixon')\n",
      "(-1.837684208866177, 'mexican cartel') (1.6315063154623322, 'profile timeline')\n",
      "(-1.821232466408636, 'prageru video') (1.620817423795776, 'tracking trump')\n",
      "(-1.8155659553056835, 'social justice') (1.5803820380524314, 'john oliver')\n",
      "(-1.8100954092801085, 'mass migration') (1.5751524291228793, 'michael cohen')\n",
      "(-1.8041981276474024, 'watch shapiro') (1.5718307506589086, 'milo yiannopoulos')\n",
      "(-1.772415239268275, 'caroline glick') (1.557463397372211, 'just happened')\n",
      "(-1.7692049716951834, 'dem trump') (1.5509090231568357, 'trump aides')\n",
      "(-1.7465707711915954, 'mainstream media') (1.546118963070162, 'long history')\n",
      "(-1.7408488545096028, 'texas border') (1.5436855915683205, 'far right')\n",
      "(-1.7259339420251105, '2nd amendment') (1.5351526420708073, 'republican healthcare')\n",
      "(-1.7164168107104312, 'view table') (1.5299639973064514, 'dear therapist')\n",
      "(-1.7090701337811691, 'national anthem') (1.5257995363089367, 'game thrones')\n",
      "(-1.6907325823273907, 'pope francis') (1.5174443635937473, 'alt right')\n",
      "(-1.688767043853304, 'police arrest') (1.509160717884769, 'trump latest')\n",
      "(-1.684183124106429, 'jerry brown') (1.504496355108383, 'slate daily newsletter')\n",
      "(-1.682523352234358, 'south african') (1.504496355108383, 'slate daily')\n",
      "(-1.6738957404912234, 'official says') (1.504496355108383, 'daily newsletter')\n",
      "(-1.6693257241360087, 'reason roundup') (1.4926277221363704, 'trump war')\n",
      "(-1.6593364820512975, 'state media') (1.4877735164771244, 'paul manafort')\n",
      "(-1.648475194400736, 'sanctuary city') (1.479469123748392, 'trump america')\n"
     ]
    }
   ],
   "source": [
    "# Show top 20 words/phrases for right and left\n",
    "for i in range(0,50):\n",
    "    print(b[i],b[len(b)-i-1])"
   ]
  },
  {
   "cell_type": "code",
   "execution_count": 135,
   "metadata": {},
   "outputs": [
    {
     "data": {
      "text/plain": [
       "array([[ 0.22263179,  0.77736821]])"
      ]
     },
     "execution_count": 135,
     "metadata": {},
     "output_type": "execute_result"
    }
   ],
   "source": [
    "logreg.predict_proba(vectorizer.transform(['syria war']))"
   ]
  },
  {
   "cell_type": "code",
   "execution_count": 187,
   "metadata": {},
   "outputs": [
    {
     "name": "stdout",
     "output_type": "stream",
     "text": [
      "[90.550753572625112, 93.301483246755623, 94.016395249112975, 96.443661108029289, 96.712372869410416]\n",
      "[-75.854714214487345, -77.511498328533079, -77.736821015758963, -80.368374524988155, -82.59889590187592]\n"
     ]
    }
   ],
   "source": [
    "right_words = ['2nd amendment', 'daca amnesty', 'open borders', 'illegal immigrant', 'islamic state']\n",
    "\n",
    "right_scores = []\n",
    "\n",
    "for phrase in right_words:\n",
    "    score = logreg.predict_proba(vectorizer.transform([phrase]))[0][0] * 100\n",
    "    right_scores.append(score)\n",
    "    \n",
    "left_words = ['undocumented immigrants', 'muslim ban', 'syria war', 'family separations', 'russia inquiry']\n",
    "\n",
    "left_scores = []\n",
    "\n",
    "for phrase in left_words:\n",
    "    score = -logreg.predict_proba(vectorizer.transform([phrase]))[0][1] * 100\n",
    "    left_scores.append(score)\n",
    "    \n",
    "print(right_scores)\n",
    "print(left_scores)"
   ]
  },
  {
   "cell_type": "code",
   "execution_count": 197,
   "metadata": {},
   "outputs": [
    {
     "data": {
      "text/plain": [
       "'file://C:\\\\Users\\\\spenc\\\\Documents\\\\pattern\\\\joint-bar.html'"
      ]
     },
     "execution_count": 197,
     "metadata": {},
     "output_type": "execute_result"
    }
   ],
   "source": [
    "import plotly\n",
    "import plotly.graph_objs as go\n",
    "import numpy as np\n",
    "\n",
    "left_text = []\n",
    "for i in range(0,5):\n",
    "    text = left_words[i] + ' ' + str(round(left_scores[i],1)) + '% '\n",
    "    left_text.append(text)\n",
    "    \n",
    "right_text = []\n",
    "for i in range(0,5):\n",
    "    text = right_words[i] + ' ' + str(round(right_scores[i],1)) + '% '\n",
    "    right_text.append(text)\n",
    "\n",
    "trace1 = go.Bar(\n",
    "    y = np.arange(1,6),\n",
    "    x = left_scores,\n",
    "    text = left_text,\n",
    "    textposition = 'auto',\n",
    "    textfont = dict(size = 16, color = 'white'),\n",
    "    hoverinfo = 'none',\n",
    "    name = 'Left',\n",
    "    orientation = 'h',\n",
    "    marker = dict(color = 'blue'),\n",
    "    offset = [-0.5,-1,-1,-1,0]\n",
    ")\n",
    "trace2 = go.Bar(\n",
    "    y = np.arange(1,6),\n",
    "    x = right_scores,\n",
    "    text = right_text,\n",
    "    textposition = 'auto',\n",
    "    textfont = dict(size = 16, color = 'white'),\n",
    "    hoverinfo = 'none',\n",
    "    name = 'Right',\n",
    "    orientation = 'h',\n",
    "    marker = dict(color = 'red')\n",
    ")\n",
    "\n",
    "data = [trace1, trace2]\n",
    "\n",
    "layout = go.Layout(\n",
    "    barmode='group',\n",
    "    title = '<b>Model Phrase Probability</b>',\n",
    "    titlefont = dict(\n",
    "        size = 24\n",
    "    ),\n",
    "    yaxis = dict(\n",
    "        showticklabels = False\n",
    "    ),\n",
    "    xaxis = dict(\n",
    "        title = 'Probability that article has left/right bias',\n",
    "    )\n",
    ")\n",
    "\n",
    "fig = go.Figure(data=data, layout=layout)\n",
    "plotly.offline.plot(fig, filename = 'joint-bar.html')"
   ]
  },
  {
   "cell_type": "code",
   "execution_count": 189,
   "metadata": {},
   "outputs": [
    {
     "data": {
      "text/plain": [
       "'file://C:\\\\Users\\\\spenc\\\\Documents\\\\pattern\\\\right-bar.html'"
      ]
     },
     "execution_count": 189,
     "metadata": {},
     "output_type": "execute_result"
    }
   ],
   "source": [
    "data1 = [trace1]\n",
    "data2 = [trace2]\n",
    "\n",
    "layout = go.Layout(\n",
    "    barmode='group',\n",
    "    title = '<b>Left Bias Probability</b>',\n",
    "    titlefont = dict(\n",
    "        size = 24\n",
    "    ),\n",
    "    yaxis = dict(\n",
    "        showticklabels = False\n",
    "    ),\n",
    "    xaxis = dict(\n",
    "        title = 'Probability that article bias is left',\n",
    "    )\n",
    ")\n",
    "\n",
    "fig = go.Figure(data=data1, layout=layout)\n",
    "plotly.offline.plot(fig, filename = 'left-bar.html')\n",
    "\n",
    "layout = go.Layout(\n",
    "    barmode='group',\n",
    "    title = '<b>Right Bias Probability</b>',\n",
    "    titlefont = dict(\n",
    "        size = 24\n",
    "    ),\n",
    "    yaxis = dict(\n",
    "        showticklabels = False\n",
    "    ),\n",
    "    xaxis = dict(\n",
    "        title = 'Probability that article bias is right',\n",
    "    )\n",
    ")\n",
    "\n",
    "fig = go.Figure(data=data2, layout=layout)\n",
    "plotly.offline.plot(fig, filename = 'right-bar.html')"
   ]
  },
  {
   "cell_type": "code",
   "execution_count": null,
   "metadata": {
    "collapsed": true
   },
   "outputs": [],
   "source": []
  }
 ],
 "metadata": {
  "kernelspec": {
   "display_name": "Python 3",
   "language": "python",
   "name": "python3"
  },
  "language_info": {
   "codemirror_mode": {
    "name": "ipython",
    "version": 3
   },
   "file_extension": ".py",
   "mimetype": "text/x-python",
   "name": "python",
   "nbconvert_exporter": "python",
   "pygments_lexer": "ipython3",
   "version": "3.6.3"
  }
 },
 "nbformat": 4,
 "nbformat_minor": 2
}
